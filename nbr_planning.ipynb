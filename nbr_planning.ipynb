{
 "cells": [
  {
   "cell_type": "code",
   "execution_count": 1,
   "metadata": {},
   "outputs": [
    {
     "name": "stdout",
     "output_type": "stream",
     "text": [
      "Requirement already satisfied: folium in c:\\users\\muham\\appdata\\local\\programs\\python\\python311\\lib\\site-packages (0.14.0)Note: you may need to restart the kernel to use updated packages.\n",
      "\n",
      "Requirement already satisfied: branca>=0.6.0 in c:\\users\\muham\\appdata\\local\\programs\\python\\python311\\lib\\site-packages (from folium) (0.6.0)\n",
      "Requirement already satisfied: jinja2>=2.9 in c:\\users\\muham\\appdata\\local\\programs\\python\\python311\\lib\\site-packages (from folium) (3.1.2)\n",
      "Requirement already satisfied: numpy in c:\\users\\muham\\appdata\\local\\programs\\python\\python311\\lib\\site-packages (from folium) (1.24.1)\n",
      "Requirement already satisfied: requests in c:\\users\\muham\\appdata\\local\\programs\\python\\python311\\lib\\site-packages (from folium) (2.28.2)\n",
      "Requirement already satisfied: MarkupSafe>=2.0 in c:\\users\\muham\\appdata\\local\\programs\\python\\python311\\lib\\site-packages (from jinja2>=2.9->folium) (2.1.1)\n",
      "Requirement already satisfied: charset-normalizer<4,>=2 in c:\\users\\muham\\appdata\\local\\programs\\python\\python311\\lib\\site-packages (from requests->folium) (3.0.1)\n",
      "Requirement already satisfied: idna<4,>=2.5 in c:\\users\\muham\\appdata\\local\\programs\\python\\python311\\lib\\site-packages (from requests->folium) (3.4)\n",
      "Requirement already satisfied: urllib3<1.27,>=1.21.1 in c:\\users\\muham\\appdata\\local\\programs\\python\\python311\\lib\\site-packages (from requests->folium) (1.26.13)\n",
      "Requirement already satisfied: certifi>=2017.4.17 in c:\\users\\muham\\appdata\\local\\programs\\python\\python311\\lib\\site-packages (from requests->folium) (2022.12.7)\n"
     ]
    },
    {
     "name": "stderr",
     "output_type": "stream",
     "text": [
      "\n",
      "[notice] A new release of pip available: 22.3.1 -> 23.0\n",
      "[notice] To update, run: python.exe -m pip install --upgrade pip\n"
     ]
    }
   ],
   "source": [
    "pip install folium"
   ]
  },
  {
   "cell_type": "code",
   "execution_count": 2,
   "metadata": {},
   "outputs": [],
   "source": [
    "import pandas as pd\n",
    "import gpxpy.geo as geo\n",
    "import matplotlib\n",
    "matplotlib.use('nbagg')\n",
    "import matplotlib.pyplot as plt\n",
    "import seaborn as sns\n",
    "import numpy as np\n",
    "import math\n",
    "import warnings\n",
    "warnings.filterwarnings(\"ignore\")\n",
    "from tqdm import tqdm\n",
    "from sklearn.model_selection import train_test_split\n",
    "from xgboost.sklearn import XGBClassifier \n",
    "import xgboost as xgb\n",
    "from sklearn.metrics import roc_curve, auc,confusion_matrix,accuracy_score,confusion_matrix\n",
    "from sklearn.model_selection import GridSearchCV\n",
    "import random\n",
    "from sklearn.naive_bayes import MultinomialNB\n",
    "from sklearn.metrics import pairwise_distances\n",
    "import folium\n",
    "from sklearn.utils import resample"
   ]
  },
  {
   "cell_type": "code",
   "execution_count": 3,
   "metadata": {},
   "outputs": [],
   "source": [
    "import pandas as pd\n",
    "\n",
    "import math\n",
    "import multiprocess as mp\n",
    "import numpy as np\n",
    "import pickle"
   ]
  },
  {
   "cell_type": "code",
   "execution_count": 4,
   "metadata": {},
   "outputs": [],
   "source": [
    "nbrs = pd.read_csv('D:/neighbor_Planing/nbrs.csv')\n",
    "nw = pd.read_csv('D:/neighbor_Planing/nw.csv', encoding='unicode_escape')"
   ]
  },
  {
   "cell_type": "code",
   "execution_count": 5,
   "metadata": {},
   "outputs": [],
   "source": [
    "nw['latitude']=nw['latitude'].str.extract('(\\d+)', expand=False)\n",
    "nw['longitude']=nw['longitude'].str.extract('(\\d+)', expand=False)"
   ]
  },
  {
   "cell_type": "code",
   "execution_count": 6,
   "metadata": {},
   "outputs": [
    {
     "data": {
      "text/html": [
       "<div>\n",
       "<style scoped>\n",
       "    .dataframe tbody tr th:only-of-type {\n",
       "        vertical-align: middle;\n",
       "    }\n",
       "\n",
       "    .dataframe tbody tr th {\n",
       "        vertical-align: top;\n",
       "    }\n",
       "\n",
       "    .dataframe thead th {\n",
       "        text-align: right;\n",
       "    }\n",
       "</style>\n",
       "<table border=\"1\" class=\"dataframe\">\n",
       "  <thead>\n",
       "    <tr style=\"text-align: right;\">\n",
       "      <th></th>\n",
       "      <th>sourcesite</th>\n",
       "      <th>sourcecell</th>\n",
       "      <th>targetsite</th>\n",
       "      <th>targetcell</th>\n",
       "    </tr>\n",
       "  </thead>\n",
       "  <tbody>\n",
       "    <tr>\n",
       "      <th>0</th>\n",
       "      <td>2505</td>\n",
       "      <td>1</td>\n",
       "      <td>2505</td>\n",
       "      <td>1</td>\n",
       "    </tr>\n",
       "    <tr>\n",
       "      <th>1</th>\n",
       "      <td>2505</td>\n",
       "      <td>1</td>\n",
       "      <td>2505</td>\n",
       "      <td>2</td>\n",
       "    </tr>\n",
       "    <tr>\n",
       "      <th>2</th>\n",
       "      <td>2505</td>\n",
       "      <td>1</td>\n",
       "      <td>2505</td>\n",
       "      <td>3</td>\n",
       "    </tr>\n",
       "    <tr>\n",
       "      <th>3</th>\n",
       "      <td>2505</td>\n",
       "      <td>1</td>\n",
       "      <td>2205</td>\n",
       "      <td>2</td>\n",
       "    </tr>\n",
       "    <tr>\n",
       "      <th>4</th>\n",
       "      <td>2505</td>\n",
       "      <td>1</td>\n",
       "      <td>2511</td>\n",
       "      <td>2</td>\n",
       "    </tr>\n",
       "  </tbody>\n",
       "</table>\n",
       "</div>"
      ],
      "text/plain": [
       "   sourcesite  sourcecell  targetsite  targetcell\n",
       "0        2505           1        2505           1\n",
       "1        2505           1        2505           2\n",
       "2        2505           1        2505           3\n",
       "3        2505           1        2205           2\n",
       "4        2505           1        2511           2"
      ]
     },
     "execution_count": 6,
     "metadata": {},
     "output_type": "execute_result"
    }
   ],
   "source": [
    "nbrs.head()"
   ]
  },
  {
   "cell_type": "code",
   "execution_count": 7,
   "metadata": {},
   "outputs": [
    {
     "data": {
      "text/plain": [
       "sourcesite    int64\n",
       "sourcecell    int64\n",
       "targetsite    int64\n",
       "targetcell    int64\n",
       "dtype: object"
      ]
     },
     "execution_count": 7,
     "metadata": {},
     "output_type": "execute_result"
    }
   ],
   "source": [
    "nbrs.dtypes"
   ]
  },
  {
   "cell_type": "code",
   "execution_count": 8,
   "metadata": {},
   "outputs": [
    {
     "data": {
      "text/plain": [
       "site          int64\n",
       "cell          int64\n",
       "latitude     object\n",
       "longitude    object\n",
       "azimuth       int64\n",
       "dtype: object"
      ]
     },
     "execution_count": 8,
     "metadata": {},
     "output_type": "execute_result"
    }
   ],
   "source": [
    "nw.dtypes"
   ]
  },
  {
   "cell_type": "code",
   "execution_count": 9,
   "metadata": {},
   "outputs": [],
   "source": [
    "nbrs.columns=[x.lower() for x in list(nbrs.columns)]\n",
    "nbrs.drop_duplicates(inplace=True)\n",
    "nbrs.dropna(inplace=True)\n",
    "nw.columns=[x.lower() for x in list(nw.columns)]\n",
    "nw=nw[['site','cell','latitude','longitude','azimuth']]\n",
    "nw.drop_duplicates(inplace=True)\n",
    "nw.dropna(inplace=True)"
   ]
  },
  {
   "cell_type": "code",
   "execution_count": null,
   "metadata": {},
   "outputs": [],
   "source": []
  },
  {
   "cell_type": "code",
   "execution_count": 10,
   "metadata": {},
   "outputs": [],
   "source": [
    "src_info_added=nbrs.merge(nw,how='inner',left_on=['sourcesite','sourcecell'],right_on=['site','cell'])\n",
    "tgt_info_added=src_info_added.merge(nw,how='inner',left_on=['targetsite','targetcell'],right_on=['site','cell'])\n",
    "\n"
   ]
  },
  {
   "cell_type": "code",
   "execution_count": 11,
   "metadata": {},
   "outputs": [],
   "source": [
    "tgt_info_added['latitude_x']=tgt_info_added['latitude_x'].astype(int)\n",
    "tgt_info_added['latitude_y']=tgt_info_added['latitude_y'].astype(int)\n",
    "tgt_info_added['longitude_x']=tgt_info_added['longitude_x'].astype(int)\n",
    "tgt_info_added['longitude_y']=tgt_info_added['longitude_y'].astype(int)"
   ]
  },
  {
   "cell_type": "code",
   "execution_count": 12,
   "metadata": {},
   "outputs": [
    {
     "data": {
      "text/plain": [
       "sourcesite     int64\n",
       "sourcecell     int64\n",
       "targetsite     int64\n",
       "targetcell     int64\n",
       "site_x         int64\n",
       "cell_x         int64\n",
       "latitude_x     int32\n",
       "longitude_x    int32\n",
       "azimuth_x      int64\n",
       "site_y         int64\n",
       "cell_y         int64\n",
       "latitude_y     int32\n",
       "longitude_y    int32\n",
       "azimuth_y      int64\n",
       "dtype: object"
      ]
     },
     "execution_count": 12,
     "metadata": {},
     "output_type": "execute_result"
    }
   ],
   "source": [
    "tgt_info_added.dtypes"
   ]
  },
  {
   "cell_type": "code",
   "execution_count": 13,
   "metadata": {},
   "outputs": [],
   "source": [
    "tgt_info_added['distance']= tgt_info_added.apply(lambda row:\n",
    "                                           geo.haversine_distance(row['latitude_x'],row['longitude_x'],row['latitude_y'],row['longitude_y']),axis=1)"
   ]
  },
  {
   "cell_type": "code",
   "execution_count": 14,
   "metadata": {},
   "outputs": [],
   "source": [
    "tgt_info_added.to_csv('d.csv')"
   ]
  },
  {
   "cell_type": "code",
   "execution_count": 15,
   "metadata": {},
   "outputs": [],
   "source": [
    "%matplotlib inline\n",
    "from matplotlib import pyplot as plt"
   ]
  },
  {
   "cell_type": "code",
   "execution_count": 16,
   "metadata": {},
   "outputs": [
    {
     "data": {
      "image/png": "[encoded data removed]",
      "text/plain": [
       "<Figure size 640x480 with 1 Axes>"
      ]
     },
     "metadata": {},
     "output_type": "display_data"
    }
   ],
   "source": [
    "sns.boxplot(data =tgt_info_added['distance'])\n",
    "plt.title(\"Box Plot for Distance\")\n",
    "plt.ylabel('distance')\n",
    "plt.grid()\n",
    "plt.show()"
   ]
  },
  {
   "cell_type": "code",
   "execution_count": 17,
   "metadata": {},
   "outputs": [],
   "source": [
    "nbrs_filtered=tgt_info_added[tgt_info_added['distance']<=3000]\n",
    "nbrs_filtered.drop(['site_x','cell_x','site_y','cell_y'],axis=1,inplace=True)\n",
    "nbrs_filtered['y']=1"
   ]
  },
  {
   "cell_type": "code",
   "execution_count": 18,
   "metadata": {},
   "outputs": [],
   "source": [
    "known_nw=pd.merge(nw,nbrs_filtered,how=\"inner\",left_on=[\"site\",\"cell\"],right_on=[\"sourcesite\",\"sourcecell\"])"
   ]
  },
  {
   "cell_type": "code",
   "execution_count": 19,
   "metadata": {},
   "outputs": [
    {
     "data": {
      "text/plain": [
       "(9640, 5)"
      ]
     },
     "execution_count": 19,
     "metadata": {},
     "output_type": "execute_result"
    }
   ],
   "source": [
    "known_nw=known_nw[list(known_nw.columns[:5])]\n",
    "known_nw.drop_duplicates(inplace=True)\n",
    "known_nw.shape"
   ]
  },
  {
   "cell_type": "code",
   "execution_count": null,
   "metadata": {},
   "outputs": [],
   "source": [
    "nbr_space=known_nw.merge(known_nw,how='cross')\n",
    "nbr_space['distance']=nbr_space.apply(lambda row:\n",
    "                                        geo.haversine_distance(row['latitude_x'],row['longitude_x'],row['latitude_y'],row['longitude_y']),axis=1)\n"
   ]
  },
  {
   "cell_type": "code",
   "execution_count": 1,
   "metadata": {},
   "outputs": [
    {
     "ename": "NameError",
     "evalue": "name 'nbr_space' is not defined",
     "output_type": "error",
     "traceback": [
      "\u001b[1;31m---------------------------------------------------------------------------\u001b[0m",
      "\u001b[1;31mNameError\u001b[0m                                 Traceback (most recent call last)",
      "Cell \u001b[1;32mIn[1], line 1\u001b[0m\n\u001b[1;32m----> 1\u001b[0m nbr_space\u001b[39m=\u001b[39mnbr_space[(nbr_space[\u001b[39m'\u001b[39m\u001b[39mdistance\u001b[39m\u001b[39m'\u001b[39m]\u001b[39m>\u001b[39m\u001b[39m=\u001b[39m\u001b[39m0\u001b[39m) \u001b[39m&\u001b[39m (nbr_space[\u001b[39m'\u001b[39m\u001b[39mdistance\u001b[39m\u001b[39m'\u001b[39m]\u001b[39m<\u001b[39m\u001b[39m3000\u001b[39m) ]\n",
      "\u001b[1;31mNameError\u001b[0m: name 'nbr_space' is not defined"
     ]
    }
   ],
   "source": [
    "nbr_space=nbr_space[(nbr_space['distance']>=0) & (nbr_space['distance']<3000) ]"
   ]
  }
 ],
 "metadata": {
  "kernelspec": {
   "display_name": "Python 3",
   "language": "python",
   "name": "python3"
  },
  "language_info": {
   "codemirror_mode": {
    "name": "ipython",
    "version": 3
   },
   "file_extension": ".py",
   "mimetype": "text/x-python",
   "name": "python",
   "nbconvert_exporter": "python",
   "pygments_lexer": "ipython3",
   "version": "3.11.1"
  },
  "orig_nbformat": 4,
  "vscode": {
   "interpreter": {
    "hash": "5f87a6cc69683745101f5cf8fc8fee81827f494883c23d1befe6caeda7eb7947"
   }
  }
 },
 "nbformat": 4,
 "nbformat_minor": 2
}
