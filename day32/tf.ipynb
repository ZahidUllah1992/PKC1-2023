{
 "cells": [
  {
   "cell_type": "code",
   "execution_count": 1,
   "metadata": {},
   "outputs": [
    {
     "name": "stdout",
     "output_type": "stream",
     "text": [
      "Collecting pandas_profiling\n",
      "  Using cached pandas_profiling-3.6.6-py2.py3-none-any.whl (324 kB)\n",
      "Collecting ydata-profiling\n",
      "  Using cached ydata_profiling-4.0.0-py2.py3-none-any.whl (344 kB)\n",
      "Requirement already satisfied: tqdm<4.65,>=4.48.2 in c:\\users\\muham\\miniconda3\\envs\\bajwa\\lib\\site-packages (from ydata-profiling->pandas_profiling) (4.64.1)\n",
      "Collecting phik<0.13,>=0.11.1\n",
      "  Using cached phik-0.12.3-cp39-cp39-win_amd64.whl (663 kB)\n",
      "Requirement already satisfied: seaborn<0.13,>=0.10.1 in c:\\users\\muham\\miniconda3\\envs\\bajwa\\lib\\site-packages (from ydata-profiling->pandas_profiling) (0.12.2)\n",
      "Collecting multimethod<1.10,>=1.4\n",
      "  Using cached multimethod-1.9.1-py3-none-any.whl (10 kB)\n",
      "Collecting visions[type_image_path]==0.7.5\n",
      "  Using cached visions-0.7.5-py3-none-any.whl (102 kB)\n",
      "Collecting scipy<1.10,>=1.4.1\n",
      "  Using cached scipy-1.9.3-cp39-cp39-win_amd64.whl (40.2 MB)\n",
      "Requirement already satisfied: htmlmin==0.1.12 in c:\\users\\muham\\miniconda3\\envs\\bajwa\\lib\\site-packages (from ydata-profiling->pandas_profiling) (0.1.12)\n",
      "Requirement already satisfied: pandas!=1.4.0,<1.6,>1.1 in c:\\users\\muham\\miniconda3\\envs\\bajwa\\lib\\site-packages (from ydata-profiling->pandas_profiling) (1.5.3)\n",
      "Collecting statsmodels<0.14,>=0.13.2\n",
      "  Using cached statsmodels-0.13.5-cp39-cp39-win_amd64.whl (9.2 MB)\n",
      "Requirement already satisfied: matplotlib<3.7,>=3.2 in c:\\users\\muham\\miniconda3\\envs\\bajwa\\lib\\site-packages (from ydata-profiling->pandas_profiling) (3.6.3)\n",
      "Requirement already satisfied: typeguard<2.14,>=2.13.2 in c:\\users\\muham\\miniconda3\\envs\\bajwa\\lib\\site-packages (from ydata-profiling->pandas_profiling) (2.13.3)\n",
      "Requirement already satisfied: pydantic<1.11,>=1.8.1 in c:\\users\\muham\\miniconda3\\envs\\bajwa\\lib\\site-packages (from ydata-profiling->pandas_profiling) (1.10.4)\n",
      "Requirement already satisfied: requests<2.29,>=2.24.0 in c:\\users\\muham\\miniconda3\\envs\\bajwa\\lib\\site-packages (from ydata-profiling->pandas_profiling) (2.28.2)\n",
      "Requirement already satisfied: jinja2<3.2,>=2.11.1 in c:\\users\\muham\\miniconda3\\envs\\bajwa\\lib\\site-packages (from ydata-profiling->pandas_profiling) (3.1.2)\n",
      "Requirement already satisfied: numpy<1.24,>=1.16.0 in c:\\users\\muham\\miniconda3\\envs\\bajwa\\lib\\site-packages (from ydata-profiling->pandas_profiling) (1.23.5)\n",
      "Requirement already satisfied: PyYAML<6.1,>=5.0.0 in c:\\users\\muham\\miniconda3\\envs\\bajwa\\lib\\site-packages (from ydata-profiling->pandas_profiling) (6.0)\n",
      "Requirement already satisfied: attrs>=19.3.0 in c:\\users\\muham\\miniconda3\\envs\\bajwa\\lib\\site-packages (from visions[type_image_path]==0.7.5->ydata-profiling->pandas_profiling) (22.2.0)\n",
      "Requirement already satisfied: tangled-up-in-unicode>=0.0.4 in c:\\users\\muham\\miniconda3\\envs\\bajwa\\lib\\site-packages (from visions[type_image_path]==0.7.5->ydata-profiling->pandas_profiling) (0.2.0)\n",
      "Collecting networkx>=2.4\n",
      "  Using cached networkx-3.0-py3-none-any.whl (2.0 MB)\n",
      "Collecting imagehash\n",
      "  Using cached ImageHash-4.3.1-py2.py3-none-any.whl (296 kB)\n",
      "Requirement already satisfied: Pillow in c:\\users\\muham\\miniconda3\\envs\\bajwa\\lib\\site-packages (from visions[type_image_path]==0.7.5->ydata-profiling->pandas_profiling) (9.4.0)\n",
      "Requirement already satisfied: MarkupSafe>=2.0 in c:\\users\\muham\\miniconda3\\envs\\bajwa\\lib\\site-packages (from jinja2<3.2,>=2.11.1->ydata-profiling->pandas_profiling) (2.1.2)\n",
      "Requirement already satisfied: cycler>=0.10 in c:\\users\\muham\\miniconda3\\envs\\bajwa\\lib\\site-packages (from matplotlib<3.7,>=3.2->ydata-profiling->pandas_profiling) (0.11.0)\n",
      "Requirement already satisfied: pyparsing>=2.2.1 in c:\\users\\muham\\miniconda3\\envs\\bajwa\\lib\\site-packages (from matplotlib<3.7,>=3.2->ydata-profiling->pandas_profiling) (3.0.9)\n",
      "Requirement already satisfied: kiwisolver>=1.0.1 in c:\\users\\muham\\miniconda3\\envs\\bajwa\\lib\\site-packages (from matplotlib<3.7,>=3.2->ydata-profiling->pandas_profiling) (1.4.4)\n",
      "Requirement already satisfied: python-dateutil>=2.7 in c:\\users\\muham\\miniconda3\\envs\\bajwa\\lib\\site-packages (from matplotlib<3.7,>=3.2->ydata-profiling->pandas_profiling) (2.8.2)\n",
      "Requirement already satisfied: contourpy>=1.0.1 in c:\\users\\muham\\miniconda3\\envs\\bajwa\\lib\\site-packages (from matplotlib<3.7,>=3.2->ydata-profiling->pandas_profiling) (1.0.7)\n",
      "Requirement already satisfied: fonttools>=4.22.0 in c:\\users\\muham\\miniconda3\\envs\\bajwa\\lib\\site-packages (from matplotlib<3.7,>=3.2->ydata-profiling->pandas_profiling) (4.38.0)\n",
      "Requirement already satisfied: packaging>=20.0 in c:\\users\\muham\\miniconda3\\envs\\bajwa\\lib\\site-packages (from matplotlib<3.7,>=3.2->ydata-profiling->pandas_profiling) (23.0)\n",
      "Requirement already satisfied: pytz>=2020.1 in c:\\users\\muham\\miniconda3\\envs\\bajwa\\lib\\site-packages (from pandas!=1.4.0,<1.6,>1.1->ydata-profiling->pandas_profiling) (2022.7.1)\n",
      "Requirement already satisfied: joblib>=0.14.1 in c:\\users\\muham\\miniconda3\\envs\\bajwa\\lib\\site-packages (from phik<0.13,>=0.11.1->ydata-profiling->pandas_profiling) (1.2.0)\n",
      "Requirement already satisfied: typing-extensions>=4.2.0 in c:\\users\\muham\\miniconda3\\envs\\bajwa\\lib\\site-packages (from pydantic<1.11,>=1.8.1->ydata-profiling->pandas_profiling) (4.4.0)\n",
      "Requirement already satisfied: certifi>=2017.4.17 in c:\\users\\muham\\miniconda3\\envs\\bajwa\\lib\\site-packages (from requests<2.29,>=2.24.0->ydata-profiling->pandas_profiling) (2022.12.7)\n",
      "Requirement already satisfied: charset-normalizer<4,>=2 in c:\\users\\muham\\miniconda3\\envs\\bajwa\\lib\\site-packages (from requests<2.29,>=2.24.0->ydata-profiling->pandas_profiling) (3.0.1)\n",
      "Requirement already satisfied: idna<4,>=2.5 in c:\\users\\muham\\miniconda3\\envs\\bajwa\\lib\\site-packages (from requests<2.29,>=2.24.0->ydata-profiling->pandas_profiling) (3.4)\n",
      "Requirement already satisfied: urllib3<1.27,>=1.21.1 in c:\\users\\muham\\miniconda3\\envs\\bajwa\\lib\\site-packages (from requests<2.29,>=2.24.0->ydata-profiling->pandas_profiling) (1.26.14)\n",
      "Collecting patsy>=0.5.2\n",
      "  Using cached patsy-0.5.3-py2.py3-none-any.whl (233 kB)\n",
      "Requirement already satisfied: colorama in c:\\users\\muham\\miniconda3\\envs\\bajwa\\lib\\site-packages (from tqdm<4.65,>=4.48.2->ydata-profiling->pandas_profiling) (0.4.6)\n",
      "Requirement already satisfied: six in c:\\users\\muham\\miniconda3\\envs\\bajwa\\lib\\site-packages (from patsy>=0.5.2->statsmodels<0.14,>=0.13.2->ydata-profiling->pandas_profiling) (1.16.0)\n",
      "Collecting PyWavelets\n",
      "  Using cached PyWavelets-1.4.1-cp39-cp39-win_amd64.whl (4.2 MB)\n",
      "Installing collected packages: scipy, PyWavelets, patsy, networkx, multimethod, imagehash, visions, statsmodels, phik, ydata-profiling, pandas_profiling\n",
      "  Attempting uninstall: scipy\n",
      "    Found existing installation: scipy 1.10.0\n",
      "    Uninstalling scipy-1.10.0:\n",
      "      Successfully uninstalled scipy-1.10.0\n",
      "Successfully installed PyWavelets-1.4.1 imagehash-4.3.1 multimethod-1.9.1 networkx-3.0 pandas_profiling-3.6.6 patsy-0.5.3 phik-0.12.3 scipy-1.9.3 statsmodels-0.13.5 visions-0.7.5 ydata-profiling-4.0.0\n",
      "Note: you may need to restart the kernel to use updated packages.\n"
     ]
    }
   ],
   "source": [
    "pip install pandas_profiling"
   ]
  },
  {
   "cell_type": "code",
   "execution_count": 1,
   "metadata": {},
   "outputs": [],
   "source": [
    "import streamlit as st"
   ]
  },
  {
   "cell_type": "code",
   "execution_count": 2,
   "metadata": {},
   "outputs": [
    {
     "name": "stdout",
     "output_type": "stream",
     "text": [
      "Collecting ipywidgets\n",
      "  Downloading ipywidgets-8.0.4-py3-none-any.whl (137 kB)\n",
      "     ------------------------------------ 137.8/137.8 kB 582.3 kB/s eta 0:00:00\n",
      "Requirement already satisfied: ipykernel>=4.5.1 in c:\\users\\muham\\miniconda3\\envs\\bajwa\\lib\\site-packages (from ipywidgets) (6.19.2)\n",
      "Collecting jupyterlab-widgets~=3.0\n",
      "  Downloading jupyterlab_widgets-3.0.5-py3-none-any.whl (384 kB)\n",
      "     -------------------------------------- 384.3/384.3 kB 2.4 MB/s eta 0:00:00\n",
      "Requirement already satisfied: traitlets>=4.3.1 in c:\\users\\muham\\miniconda3\\envs\\bajwa\\lib\\site-packages (from ipywidgets) (5.7.1)\n",
      "Collecting widgetsnbextension~=4.0\n",
      "  Downloading widgetsnbextension-4.0.5-py3-none-any.whl (2.0 MB)\n",
      "     ---------------------------------------- 2.0/2.0 MB 1.2 MB/s eta 0:00:00\n",
      "Requirement already satisfied: ipython>=6.1.0 in c:\\users\\muham\\miniconda3\\envs\\bajwa\\lib\\site-packages (from ipywidgets) (8.8.0)\n",
      "Requirement already satisfied: matplotlib-inline>=0.1 in c:\\users\\muham\\miniconda3\\envs\\bajwa\\lib\\site-packages (from ipykernel>=4.5.1->ipywidgets) (0.1.6)\n",
      "Requirement already satisfied: jupyter-client>=6.1.12 in c:\\users\\muham\\miniconda3\\envs\\bajwa\\lib\\site-packages (from ipykernel>=4.5.1->ipywidgets) (7.4.8)\n",
      "Requirement already satisfied: pyzmq>=17 in c:\\users\\muham\\miniconda3\\envs\\bajwa\\lib\\site-packages (from ipykernel>=4.5.1->ipywidgets) (23.2.0)\n",
      "Requirement already satisfied: comm>=0.1.1 in c:\\users\\muham\\miniconda3\\envs\\bajwa\\lib\\site-packages (from ipykernel>=4.5.1->ipywidgets) (0.1.2)\n",
      "Requirement already satisfied: tornado>=6.1 in c:\\users\\muham\\miniconda3\\envs\\bajwa\\lib\\site-packages (from ipykernel>=4.5.1->ipywidgets) (6.2)\n",
      "Requirement already satisfied: psutil in c:\\users\\muham\\miniconda3\\envs\\bajwa\\lib\\site-packages (from ipykernel>=4.5.1->ipywidgets) (5.9.0)\n",
      "Requirement already satisfied: packaging in c:\\users\\muham\\miniconda3\\envs\\bajwa\\lib\\site-packages (from ipykernel>=4.5.1->ipywidgets) (23.0)\n",
      "Requirement already satisfied: debugpy>=1.0 in c:\\users\\muham\\miniconda3\\envs\\bajwa\\lib\\site-packages (from ipykernel>=4.5.1->ipywidgets) (1.5.1)\n",
      "Requirement already satisfied: nest-asyncio in c:\\users\\muham\\miniconda3\\envs\\bajwa\\lib\\site-packages (from ipykernel>=4.5.1->ipywidgets) (1.5.6)\n",
      "Requirement already satisfied: decorator in c:\\users\\muham\\miniconda3\\envs\\bajwa\\lib\\site-packages (from ipython>=6.1.0->ipywidgets) (5.1.1)\n",
      "Requirement already satisfied: pickleshare in c:\\users\\muham\\miniconda3\\envs\\bajwa\\lib\\site-packages (from ipython>=6.1.0->ipywidgets) (0.7.5)\n",
      "Requirement already satisfied: stack-data in c:\\users\\muham\\miniconda3\\envs\\bajwa\\lib\\site-packages (from ipython>=6.1.0->ipywidgets) (0.2.0)\n",
      "Requirement already satisfied: colorama in c:\\users\\muham\\miniconda3\\envs\\bajwa\\lib\\site-packages (from ipython>=6.1.0->ipywidgets) (0.4.6)\n",
      "Requirement already satisfied: jedi>=0.16 in c:\\users\\muham\\miniconda3\\envs\\bajwa\\lib\\site-packages (from ipython>=6.1.0->ipywidgets) (0.18.1)\n",
      "Requirement already satisfied: pygments>=2.4.0 in c:\\users\\muham\\miniconda3\\envs\\bajwa\\lib\\site-packages (from ipython>=6.1.0->ipywidgets) (2.14.0)\n",
      "Requirement already satisfied: backcall in c:\\users\\muham\\miniconda3\\envs\\bajwa\\lib\\site-packages (from ipython>=6.1.0->ipywidgets) (0.2.0)\n",
      "Requirement already satisfied: prompt-toolkit<3.1.0,>=3.0.11 in c:\\users\\muham\\miniconda3\\envs\\bajwa\\lib\\site-packages (from ipython>=6.1.0->ipywidgets) (3.0.36)\n",
      "Requirement already satisfied: parso<0.9.0,>=0.8.0 in c:\\users\\muham\\miniconda3\\envs\\bajwa\\lib\\site-packages (from jedi>=0.16->ipython>=6.1.0->ipywidgets) (0.8.3)\n",
      "Requirement already satisfied: jupyter-core>=4.9.2 in c:\\users\\muham\\miniconda3\\envs\\bajwa\\lib\\site-packages (from jupyter-client>=6.1.12->ipykernel>=4.5.1->ipywidgets) (5.1.1)\n",
      "Requirement already satisfied: python-dateutil>=2.8.2 in c:\\users\\muham\\miniconda3\\envs\\bajwa\\lib\\site-packages (from jupyter-client>=6.1.12->ipykernel>=4.5.1->ipywidgets) (2.8.2)\n",
      "Requirement already satisfied: entrypoints in c:\\users\\muham\\miniconda3\\envs\\bajwa\\lib\\site-packages (from jupyter-client>=6.1.12->ipykernel>=4.5.1->ipywidgets) (0.4)\n",
      "Requirement already satisfied: wcwidth in c:\\users\\muham\\miniconda3\\envs\\bajwa\\lib\\site-packages (from prompt-toolkit<3.1.0,>=3.0.11->ipython>=6.1.0->ipywidgets) (0.2.5)\n",
      "Requirement already satisfied: asttokens in c:\\users\\muham\\miniconda3\\envs\\bajwa\\lib\\site-packages (from stack-data->ipython>=6.1.0->ipywidgets) (2.0.5)\n",
      "Requirement already satisfied: pure-eval in c:\\users\\muham\\miniconda3\\envs\\bajwa\\lib\\site-packages (from stack-data->ipython>=6.1.0->ipywidgets) (0.2.2)\n",
      "Requirement already satisfied: executing in c:\\users\\muham\\miniconda3\\envs\\bajwa\\lib\\site-packages (from stack-data->ipython>=6.1.0->ipywidgets) (0.8.3)\n",
      "Requirement already satisfied: platformdirs>=2.5 in c:\\users\\muham\\miniconda3\\envs\\bajwa\\lib\\site-packages (from jupyter-core>=4.9.2->jupyter-client>=6.1.12->ipykernel>=4.5.1->ipywidgets) (2.5.2)\n",
      "Requirement already satisfied: pywin32>=1.0 in c:\\users\\muham\\miniconda3\\envs\\bajwa\\lib\\site-packages (from jupyter-core>=4.9.2->jupyter-client>=6.1.12->ipykernel>=4.5.1->ipywidgets) (305.1)\n",
      "Requirement already satisfied: six>=1.5 in c:\\users\\muham\\miniconda3\\envs\\bajwa\\lib\\site-packages (from python-dateutil>=2.8.2->jupyter-client>=6.1.12->ipykernel>=4.5.1->ipywidgets) (1.16.0)\n",
      "Installing collected packages: widgetsnbextension, jupyterlab-widgets, ipywidgets\n",
      "Successfully installed ipywidgets-8.0.4 jupyterlab-widgets-3.0.5 widgetsnbextension-4.0.5\n",
      "Note: you may need to restart the kernel to use updated packages.\n"
     ]
    }
   ],
   "source": [
    "pip install ipywidgets"
   ]
  },
  {
   "cell_type": "code",
   "execution_count": 4,
   "metadata": {},
   "outputs": [],
   "source": [
    "import smtplib"
   ]
  },
  {
   "cell_type": "code",
   "execution_count": 1,
   "metadata": {},
   "outputs": [
    {
     "name": "stdout",
     "output_type": "stream",
     "text": [
      "Email is not a valid email address\n",
      "panjiislam@gmail.com is a valid email address\n"
     ]
    },
    {
     "ename": "gaierror",
     "evalue": "[Errno 11001] getaddrinfo failed",
     "output_type": "error",
     "traceback": [
      "\u001b[1;31m---------------------------------------------------------------------------\u001b[0m",
      "\u001b[1;31mgaierror\u001b[0m                                  Traceback (most recent call last)",
      "Cell \u001b[1;32mIn[1], line 35\u001b[0m\n\u001b[0;32m     33\u001b[0m \u001b[39mif\u001b[39;00m is_valid_email(email):\n\u001b[0;32m     34\u001b[0m     \u001b[39mprint\u001b[39m(\u001b[39mf\u001b[39m\u001b[39m\"\u001b[39m\u001b[39m{\u001b[39;00memail\u001b[39m}\u001b[39;00m\u001b[39m is a valid email address\u001b[39m\u001b[39m\"\u001b[39m)\n\u001b[1;32m---> 35\u001b[0m     \u001b[39mif\u001b[39;00m is_active_email(email):\n\u001b[0;32m     36\u001b[0m         \u001b[39mprint\u001b[39m(\u001b[39mf\u001b[39m\u001b[39m\"\u001b[39m\u001b[39m{\u001b[39;00memail\u001b[39m}\u001b[39;00m\u001b[39m is an active email address\u001b[39m\u001b[39m\"\u001b[39m)\n\u001b[0;32m     37\u001b[0m         results\u001b[39m.\u001b[39mappend([email, \u001b[39m'\u001b[39m\u001b[39mvalid\u001b[39m\u001b[39m'\u001b[39m, \u001b[39m'\u001b[39m\u001b[39mactive\u001b[39m\u001b[39m'\u001b[39m])\n",
      "Cell \u001b[1;32mIn[1], line 11\u001b[0m, in \u001b[0;36mis_active_email\u001b[1;34m(email)\u001b[0m\n\u001b[0;32m     10\u001b[0m \u001b[39mdef\u001b[39;00m \u001b[39mis_active_email\u001b[39m(email):\n\u001b[1;32m---> 11\u001b[0m     server \u001b[39m=\u001b[39m smtplib\u001b[39m.\u001b[39;49mSMTP(\u001b[39m'\u001b[39;49m\u001b[39msmtp.example.com\u001b[39;49m\u001b[39m'\u001b[39;49m)\n\u001b[0;32m     12\u001b[0m     server\u001b[39m.\u001b[39mset_debuglevel(\u001b[39m0\u001b[39m)\n\u001b[0;32m     13\u001b[0m     \u001b[39mtry\u001b[39;00m:\n",
      "File \u001b[1;32mc:\\Users\\muham\\miniconda3\\envs\\bajwa\\lib\\smtplib.py:255\u001b[0m, in \u001b[0;36mSMTP.__init__\u001b[1;34m(self, host, port, local_hostname, timeout, source_address)\u001b[0m\n\u001b[0;32m    252\u001b[0m \u001b[39mself\u001b[39m\u001b[39m.\u001b[39m_auth_challenge_count \u001b[39m=\u001b[39m \u001b[39m0\u001b[39m\n\u001b[0;32m    254\u001b[0m \u001b[39mif\u001b[39;00m host:\n\u001b[1;32m--> 255\u001b[0m     (code, msg) \u001b[39m=\u001b[39m \u001b[39mself\u001b[39;49m\u001b[39m.\u001b[39;49mconnect(host, port)\n\u001b[0;32m    256\u001b[0m     \u001b[39mif\u001b[39;00m code \u001b[39m!=\u001b[39m \u001b[39m220\u001b[39m:\n\u001b[0;32m    257\u001b[0m         \u001b[39mself\u001b[39m\u001b[39m.\u001b[39mclose()\n",
      "File \u001b[1;32mc:\\Users\\muham\\miniconda3\\envs\\bajwa\\lib\\smtplib.py:341\u001b[0m, in \u001b[0;36mSMTP.connect\u001b[1;34m(self, host, port, source_address)\u001b[0m\n\u001b[0;32m    339\u001b[0m     port \u001b[39m=\u001b[39m \u001b[39mself\u001b[39m\u001b[39m.\u001b[39mdefault_port\n\u001b[0;32m    340\u001b[0m sys\u001b[39m.\u001b[39maudit(\u001b[39m\"\u001b[39m\u001b[39msmtplib.connect\u001b[39m\u001b[39m\"\u001b[39m, \u001b[39mself\u001b[39m, host, port)\n\u001b[1;32m--> 341\u001b[0m \u001b[39mself\u001b[39m\u001b[39m.\u001b[39msock \u001b[39m=\u001b[39m \u001b[39mself\u001b[39;49m\u001b[39m.\u001b[39;49m_get_socket(host, port, \u001b[39mself\u001b[39;49m\u001b[39m.\u001b[39;49mtimeout)\n\u001b[0;32m    342\u001b[0m \u001b[39mself\u001b[39m\u001b[39m.\u001b[39mfile \u001b[39m=\u001b[39m \u001b[39mNone\u001b[39;00m\n\u001b[0;32m    343\u001b[0m (code, msg) \u001b[39m=\u001b[39m \u001b[39mself\u001b[39m\u001b[39m.\u001b[39mgetreply()\n",
      "File \u001b[1;32mc:\\Users\\muham\\miniconda3\\envs\\bajwa\\lib\\smtplib.py:312\u001b[0m, in \u001b[0;36mSMTP._get_socket\u001b[1;34m(self, host, port, timeout)\u001b[0m\n\u001b[0;32m    310\u001b[0m \u001b[39mif\u001b[39;00m \u001b[39mself\u001b[39m\u001b[39m.\u001b[39mdebuglevel \u001b[39m>\u001b[39m \u001b[39m0\u001b[39m:\n\u001b[0;32m    311\u001b[0m     \u001b[39mself\u001b[39m\u001b[39m.\u001b[39m_print_debug(\u001b[39m'\u001b[39m\u001b[39mconnect: to\u001b[39m\u001b[39m'\u001b[39m, (host, port), \u001b[39mself\u001b[39m\u001b[39m.\u001b[39msource_address)\n\u001b[1;32m--> 312\u001b[0m \u001b[39mreturn\u001b[39;00m socket\u001b[39m.\u001b[39;49mcreate_connection((host, port), timeout,\n\u001b[0;32m    313\u001b[0m                                 \u001b[39mself\u001b[39;49m\u001b[39m.\u001b[39;49msource_address)\n",
      "File \u001b[1;32mc:\\Users\\muham\\miniconda3\\envs\\bajwa\\lib\\socket.py:823\u001b[0m, in \u001b[0;36mcreate_connection\u001b[1;34m(address, timeout, source_address)\u001b[0m\n\u001b[0;32m    821\u001b[0m host, port \u001b[39m=\u001b[39m address\n\u001b[0;32m    822\u001b[0m err \u001b[39m=\u001b[39m \u001b[39mNone\u001b[39;00m\n\u001b[1;32m--> 823\u001b[0m \u001b[39mfor\u001b[39;00m res \u001b[39min\u001b[39;00m getaddrinfo(host, port, \u001b[39m0\u001b[39;49m, SOCK_STREAM):\n\u001b[0;32m    824\u001b[0m     af, socktype, proto, canonname, sa \u001b[39m=\u001b[39m res\n\u001b[0;32m    825\u001b[0m     sock \u001b[39m=\u001b[39m \u001b[39mNone\u001b[39;00m\n",
      "File \u001b[1;32mc:\\Users\\muham\\miniconda3\\envs\\bajwa\\lib\\socket.py:954\u001b[0m, in \u001b[0;36mgetaddrinfo\u001b[1;34m(host, port, family, type, proto, flags)\u001b[0m\n\u001b[0;32m    951\u001b[0m \u001b[39m# We override this function since we want to translate the numeric family\u001b[39;00m\n\u001b[0;32m    952\u001b[0m \u001b[39m# and socket type values to enum constants.\u001b[39;00m\n\u001b[0;32m    953\u001b[0m addrlist \u001b[39m=\u001b[39m []\n\u001b[1;32m--> 954\u001b[0m \u001b[39mfor\u001b[39;00m res \u001b[39min\u001b[39;00m _socket\u001b[39m.\u001b[39;49mgetaddrinfo(host, port, family, \u001b[39mtype\u001b[39;49m, proto, flags):\n\u001b[0;32m    955\u001b[0m     af, socktype, proto, canonname, sa \u001b[39m=\u001b[39m res\n\u001b[0;32m    956\u001b[0m     addrlist\u001b[39m.\u001b[39mappend((_intenum_converter(af, AddressFamily),\n\u001b[0;32m    957\u001b[0m                      _intenum_converter(socktype, SocketKind),\n\u001b[0;32m    958\u001b[0m                      proto, canonname, sa))\n",
      "\u001b[1;31mgaierror\u001b[0m: [Errno 11001] getaddrinfo failed"
     ]
    }
   ],
   "source": [
    "import re\n",
    "import smtplib\n",
    "import csv\n",
    "import openpyxl\n",
    "\n",
    "def is_valid_email(email):\n",
    "    email_regex = re.compile(r'[^@]+@[^@]+\\.[^@]+')\n",
    "    return email_regex.match(email) is not None\n",
    "\n",
    "def is_active_email(email):\n",
    "    server = smtplib.SMTP('smtp.example.com')\n",
    "    server.set_debuglevel(0)\n",
    "    try:\n",
    "        server.connect()\n",
    "        server.helo()\n",
    "        server.mail('sender@example.com')\n",
    "        code, message = server.rcpt(str(email))\n",
    "        server.quit()\n",
    "        if code == 250:\n",
    "            return True\n",
    "        else:\n",
    "            return False\n",
    "    except Exception as error:\n",
    "        print(F'An error occurred: {error}')\n",
    "        return False\n",
    "\n",
    "workbook = openpyxl.load_workbook('emails.xlsx')\n",
    "sheet = workbook.active\n",
    "\n",
    "results = []\n",
    "for row in sheet.iter_rows(values_only=True):\n",
    "    email = str(row[0])\n",
    "    if is_valid_email(email):\n",
    "        print(f\"{email} is a valid email address\")\n",
    "        if is_active_email(email):\n",
    "            print(f\"{email} is an active email address\")\n",
    "            results.append([email, 'valid', 'active'])\n",
    "        else:\n",
    "            print(f\"{email} is not an active email address\")\n",
    "            results.append([email, 'valid', 'inactive'])\n",
    "    else:\n",
    "        print(f\"{email} is not a valid email address\")\n",
    "        results.append([email, 'invalid', ''])\n",
    "\n",
    "with open('email_results.csv', 'w', newline='') as result_file:\n",
    "    result_writer = csv.writer(result_file)\n",
    "    result_writer.writerow(['Email', 'Validity', 'Activity'])\n",
    "    result_writer.writerows(results)\n",
    "\n"
   ]
  },
  {
   "cell_type": "code",
   "execution_count": 2,
   "metadata": {},
   "outputs": [
    {
     "name": "stdout",
     "output_type": "stream",
     "text": [
      "Collecting streamlit_pandas_profiling\n",
      "  Downloading streamlit_pandas_profiling-0.1.3-py3-none-any.whl (259 kB)\n",
      "     ------------------------------------ 259.8/259.8 kB 840.1 kB/s eta 0:00:00\n",
      "Requirement already satisfied: streamlit>=0.63 in c:\\users\\muham\\miniconda3\\envs\\bajwa\\lib\\site-packages (from streamlit_pandas_profiling) (1.17.0)\n",
      "Requirement already satisfied: pandas-profiling in c:\\users\\muham\\miniconda3\\envs\\bajwa\\lib\\site-packages (from streamlit_pandas_profiling) (3.6.6)\n",
      "Requirement already satisfied: validators>=0.2 in c:\\users\\muham\\miniconda3\\envs\\bajwa\\lib\\site-packages (from streamlit>=0.63->streamlit_pandas_profiling) (0.20.0)\n",
      "Requirement already satisfied: rich>=10.11.0 in c:\\users\\muham\\miniconda3\\envs\\bajwa\\lib\\site-packages (from streamlit>=0.63->streamlit_pandas_profiling) (13.3.0)\n",
      "Requirement already satisfied: protobuf<4,>=3.12 in c:\\users\\muham\\miniconda3\\envs\\bajwa\\lib\\site-packages (from streamlit>=0.63->streamlit_pandas_profiling) (3.19.6)\n",
      "Requirement already satisfied: packaging>=14.1 in c:\\users\\muham\\miniconda3\\envs\\bajwa\\lib\\site-packages (from streamlit>=0.63->streamlit_pandas_profiling) (23.0)\n",
      "Requirement already satisfied: typing-extensions>=3.10.0.0 in c:\\users\\muham\\miniconda3\\envs\\bajwa\\lib\\site-packages (from streamlit>=0.63->streamlit_pandas_profiling) (4.4.0)\n",
      "Requirement already satisfied: python-dateutil in c:\\users\\muham\\miniconda3\\envs\\bajwa\\lib\\site-packages (from streamlit>=0.63->streamlit_pandas_profiling) (2.8.2)\n",
      "Requirement already satisfied: click>=7.0 in c:\\users\\muham\\miniconda3\\envs\\bajwa\\lib\\site-packages (from streamlit>=0.63->streamlit_pandas_profiling) (8.1.3)\n",
      "Requirement already satisfied: blinker>=1.0.0 in c:\\users\\muham\\miniconda3\\envs\\bajwa\\lib\\site-packages (from streamlit>=0.63->streamlit_pandas_profiling) (1.5)\n",
      "Requirement already satisfied: pydeck>=0.1.dev5 in c:\\users\\muham\\miniconda3\\envs\\bajwa\\lib\\site-packages (from streamlit>=0.63->streamlit_pandas_profiling) (0.8.0)\n",
      "Requirement already satisfied: pillow>=6.2.0 in c:\\users\\muham\\miniconda3\\envs\\bajwa\\lib\\site-packages (from streamlit>=0.63->streamlit_pandas_profiling) (9.4.0)\n",
      "Requirement already satisfied: toml in c:\\users\\muham\\miniconda3\\envs\\bajwa\\lib\\site-packages (from streamlit>=0.63->streamlit_pandas_profiling) (0.10.2)\n",
      "Requirement already satisfied: pympler>=0.9 in c:\\users\\muham\\miniconda3\\envs\\bajwa\\lib\\site-packages (from streamlit>=0.63->streamlit_pandas_profiling) (1.0.1)\n",
      "Requirement already satisfied: watchdog in c:\\users\\muham\\miniconda3\\envs\\bajwa\\lib\\site-packages (from streamlit>=0.63->streamlit_pandas_profiling) (2.2.1)\n",
      "Requirement already satisfied: importlib-metadata>=1.4 in c:\\users\\muham\\miniconda3\\envs\\bajwa\\lib\\site-packages (from streamlit>=0.63->streamlit_pandas_profiling) (6.0.0)\n",
      "Requirement already satisfied: pyarrow>=4.0 in c:\\users\\muham\\miniconda3\\envs\\bajwa\\lib\\site-packages (from streamlit>=0.63->streamlit_pandas_profiling) (11.0.0)\n",
      "Requirement already satisfied: tornado>=5.0 in c:\\users\\muham\\miniconda3\\envs\\bajwa\\lib\\site-packages (from streamlit>=0.63->streamlit_pandas_profiling) (6.2)\n",
      "Requirement already satisfied: gitpython!=3.1.19 in c:\\users\\muham\\miniconda3\\envs\\bajwa\\lib\\site-packages (from streamlit>=0.63->streamlit_pandas_profiling) (3.1.30)\n",
      "Requirement already satisfied: cachetools>=4.0 in c:\\users\\muham\\miniconda3\\envs\\bajwa\\lib\\site-packages (from streamlit>=0.63->streamlit_pandas_profiling) (5.3.0)\n",
      "Requirement already satisfied: requests>=2.4 in c:\\users\\muham\\miniconda3\\envs\\bajwa\\lib\\site-packages (from streamlit>=0.63->streamlit_pandas_profiling) (2.28.2)\n",
      "Requirement already satisfied: semver in c:\\users\\muham\\miniconda3\\envs\\bajwa\\lib\\site-packages (from streamlit>=0.63->streamlit_pandas_profiling) (2.13.0)\n",
      "Requirement already satisfied: altair>=3.2.0 in c:\\users\\muham\\miniconda3\\envs\\bajwa\\lib\\site-packages (from streamlit>=0.63->streamlit_pandas_profiling) (4.2.1)\n",
      "Requirement already satisfied: numpy in c:\\users\\muham\\miniconda3\\envs\\bajwa\\lib\\site-packages (from streamlit>=0.63->streamlit_pandas_profiling) (1.23.5)\n",
      "Requirement already satisfied: tzlocal>=1.1 in c:\\users\\muham\\miniconda3\\envs\\bajwa\\lib\\site-packages (from streamlit>=0.63->streamlit_pandas_profiling) (4.2)\n",
      "Requirement already satisfied: pandas>=0.21.0 in c:\\users\\muham\\miniconda3\\envs\\bajwa\\lib\\site-packages (from streamlit>=0.63->streamlit_pandas_profiling) (1.5.3)\n",
      "Requirement already satisfied: ydata-profiling in c:\\users\\muham\\miniconda3\\envs\\bajwa\\lib\\site-packages (from pandas-profiling->streamlit_pandas_profiling) (4.0.0)\n",
      "Requirement already satisfied: jinja2 in c:\\users\\muham\\miniconda3\\envs\\bajwa\\lib\\site-packages (from altair>=3.2.0->streamlit>=0.63->streamlit_pandas_profiling) (3.1.2)\n",
      "Requirement already satisfied: toolz in c:\\users\\muham\\miniconda3\\envs\\bajwa\\lib\\site-packages (from altair>=3.2.0->streamlit>=0.63->streamlit_pandas_profiling) (0.12.0)\n",
      "Requirement already satisfied: jsonschema>=3.0 in c:\\users\\muham\\miniconda3\\envs\\bajwa\\lib\\site-packages (from altair>=3.2.0->streamlit>=0.63->streamlit_pandas_profiling) (4.17.3)\n",
      "Requirement already satisfied: entrypoints in c:\\users\\muham\\miniconda3\\envs\\bajwa\\lib\\site-packages (from altair>=3.2.0->streamlit>=0.63->streamlit_pandas_profiling) (0.4)\n",
      "Requirement already satisfied: colorama in c:\\users\\muham\\miniconda3\\envs\\bajwa\\lib\\site-packages (from click>=7.0->streamlit>=0.63->streamlit_pandas_profiling) (0.4.6)\n",
      "Requirement already satisfied: gitdb<5,>=4.0.1 in c:\\users\\muham\\miniconda3\\envs\\bajwa\\lib\\site-packages (from gitpython!=3.1.19->streamlit>=0.63->streamlit_pandas_profiling) (4.0.10)\n",
      "Requirement already satisfied: zipp>=0.5 in c:\\users\\muham\\miniconda3\\envs\\bajwa\\lib\\site-packages (from importlib-metadata>=1.4->streamlit>=0.63->streamlit_pandas_profiling) (3.11.0)\n",
      "Requirement already satisfied: pytz>=2020.1 in c:\\users\\muham\\miniconda3\\envs\\bajwa\\lib\\site-packages (from pandas>=0.21.0->streamlit>=0.63->streamlit_pandas_profiling) (2022.7.1)\n",
      "Requirement already satisfied: six>=1.5 in c:\\users\\muham\\miniconda3\\envs\\bajwa\\lib\\site-packages (from python-dateutil->streamlit>=0.63->streamlit_pandas_profiling) (1.16.0)\n",
      "Requirement already satisfied: urllib3<1.27,>=1.21.1 in c:\\users\\muham\\miniconda3\\envs\\bajwa\\lib\\site-packages (from requests>=2.4->streamlit>=0.63->streamlit_pandas_profiling) (1.26.14)\n",
      "Requirement already satisfied: charset-normalizer<4,>=2 in c:\\users\\muham\\miniconda3\\envs\\bajwa\\lib\\site-packages (from requests>=2.4->streamlit>=0.63->streamlit_pandas_profiling) (3.0.1)\n",
      "Requirement already satisfied: idna<4,>=2.5 in c:\\users\\muham\\miniconda3\\envs\\bajwa\\lib\\site-packages (from requests>=2.4->streamlit>=0.63->streamlit_pandas_profiling) (3.4)\n",
      "Requirement already satisfied: certifi>=2017.4.17 in c:\\users\\muham\\miniconda3\\envs\\bajwa\\lib\\site-packages (from requests>=2.4->streamlit>=0.63->streamlit_pandas_profiling) (2022.12.7)\n",
      "Requirement already satisfied: markdown-it-py<3.0.0,>=2.1.0 in c:\\users\\muham\\miniconda3\\envs\\bajwa\\lib\\site-packages (from rich>=10.11.0->streamlit>=0.63->streamlit_pandas_profiling) (2.1.0)\n",
      "Requirement already satisfied: pygments<3.0.0,>=2.14.0 in c:\\users\\muham\\miniconda3\\envs\\bajwa\\lib\\site-packages (from rich>=10.11.0->streamlit>=0.63->streamlit_pandas_profiling) (2.14.0)\n",
      "Requirement already satisfied: tzdata in c:\\users\\muham\\miniconda3\\envs\\bajwa\\lib\\site-packages (from tzlocal>=1.1->streamlit>=0.63->streamlit_pandas_profiling) (2022.7)\n",
      "Requirement already satisfied: pytz-deprecation-shim in c:\\users\\muham\\miniconda3\\envs\\bajwa\\lib\\site-packages (from tzlocal>=1.1->streamlit>=0.63->streamlit_pandas_profiling) (0.1.0.post0)\n",
      "Requirement already satisfied: decorator>=3.4.0 in c:\\users\\muham\\miniconda3\\envs\\bajwa\\lib\\site-packages (from validators>=0.2->streamlit>=0.63->streamlit_pandas_profiling) (5.1.1)\n",
      "Requirement already satisfied: typeguard<2.14,>=2.13.2 in c:\\users\\muham\\miniconda3\\envs\\bajwa\\lib\\site-packages (from ydata-profiling->pandas-profiling->streamlit_pandas_profiling) (2.13.3)\n",
      "Requirement already satisfied: scipy<1.10,>=1.4.1 in c:\\users\\muham\\miniconda3\\envs\\bajwa\\lib\\site-packages (from ydata-profiling->pandas-profiling->streamlit_pandas_profiling) (1.9.3)\n",
      "Requirement already satisfied: multimethod<1.10,>=1.4 in c:\\users\\muham\\miniconda3\\envs\\bajwa\\lib\\site-packages (from ydata-profiling->pandas-profiling->streamlit_pandas_profiling) (1.9.1)\n",
      "Requirement already satisfied: matplotlib<3.7,>=3.2 in c:\\users\\muham\\miniconda3\\envs\\bajwa\\lib\\site-packages (from ydata-profiling->pandas-profiling->streamlit_pandas_profiling) (3.6.3)\n",
      "Requirement already satisfied: seaborn<0.13,>=0.10.1 in c:\\users\\muham\\miniconda3\\envs\\bajwa\\lib\\site-packages (from ydata-profiling->pandas-profiling->streamlit_pandas_profiling) (0.12.2)\n",
      "Requirement already satisfied: tqdm<4.65,>=4.48.2 in c:\\users\\muham\\miniconda3\\envs\\bajwa\\lib\\site-packages (from ydata-profiling->pandas-profiling->streamlit_pandas_profiling) (4.64.1)\n",
      "Requirement already satisfied: visions[type_image_path]==0.7.5 in c:\\users\\muham\\miniconda3\\envs\\bajwa\\lib\\site-packages (from ydata-profiling->pandas-profiling->streamlit_pandas_profiling) (0.7.5)\n",
      "Requirement already satisfied: htmlmin==0.1.12 in c:\\users\\muham\\miniconda3\\envs\\bajwa\\lib\\site-packages (from ydata-profiling->pandas-profiling->streamlit_pandas_profiling) (0.1.12)\n",
      "Requirement already satisfied: statsmodels<0.14,>=0.13.2 in c:\\users\\muham\\miniconda3\\envs\\bajwa\\lib\\site-packages (from ydata-profiling->pandas-profiling->streamlit_pandas_profiling) (0.13.5)\n",
      "Requirement already satisfied: pydantic<1.11,>=1.8.1 in c:\\users\\muham\\miniconda3\\envs\\bajwa\\lib\\site-packages (from ydata-profiling->pandas-profiling->streamlit_pandas_profiling) (1.10.4)\n",
      "Requirement already satisfied: phik<0.13,>=0.11.1 in c:\\users\\muham\\miniconda3\\envs\\bajwa\\lib\\site-packages (from ydata-profiling->pandas-profiling->streamlit_pandas_profiling) (0.12.3)\n",
      "Requirement already satisfied: PyYAML<6.1,>=5.0.0 in c:\\users\\muham\\miniconda3\\envs\\bajwa\\lib\\site-packages (from ydata-profiling->pandas-profiling->streamlit_pandas_profiling) (6.0)\n",
      "Requirement already satisfied: networkx>=2.4 in c:\\users\\muham\\miniconda3\\envs\\bajwa\\lib\\site-packages (from visions[type_image_path]==0.7.5->ydata-profiling->pandas-profiling->streamlit_pandas_profiling) (3.0)\n",
      "Requirement already satisfied: tangled-up-in-unicode>=0.0.4 in c:\\users\\muham\\miniconda3\\envs\\bajwa\\lib\\site-packages (from visions[type_image_path]==0.7.5->ydata-profiling->pandas-profiling->streamlit_pandas_profiling) (0.2.0)\n",
      "Requirement already satisfied: attrs>=19.3.0 in c:\\users\\muham\\miniconda3\\envs\\bajwa\\lib\\site-packages (from visions[type_image_path]==0.7.5->ydata-profiling->pandas-profiling->streamlit_pandas_profiling) (22.2.0)\n",
      "Requirement already satisfied: imagehash in c:\\users\\muham\\miniconda3\\envs\\bajwa\\lib\\site-packages (from visions[type_image_path]==0.7.5->ydata-profiling->pandas-profiling->streamlit_pandas_profiling) (4.3.1)\n",
      "Requirement already satisfied: smmap<6,>=3.0.1 in c:\\users\\muham\\miniconda3\\envs\\bajwa\\lib\\site-packages (from gitdb<5,>=4.0.1->gitpython!=3.1.19->streamlit>=0.63->streamlit_pandas_profiling) (5.0.0)\n",
      "Requirement already satisfied: MarkupSafe>=2.0 in c:\\users\\muham\\miniconda3\\envs\\bajwa\\lib\\site-packages (from jinja2->altair>=3.2.0->streamlit>=0.63->streamlit_pandas_profiling) (2.1.2)\n",
      "Requirement already satisfied: pyrsistent!=0.17.0,!=0.17.1,!=0.17.2,>=0.14.0 in c:\\users\\muham\\miniconda3\\envs\\bajwa\\lib\\site-packages (from jsonschema>=3.0->altair>=3.2.0->streamlit>=0.63->streamlit_pandas_profiling) (0.19.3)\n",
      "Requirement already satisfied: mdurl~=0.1 in c:\\users\\muham\\miniconda3\\envs\\bajwa\\lib\\site-packages (from markdown-it-py<3.0.0,>=2.1.0->rich>=10.11.0->streamlit>=0.63->streamlit_pandas_profiling) (0.1.2)\n",
      "Requirement already satisfied: fonttools>=4.22.0 in c:\\users\\muham\\miniconda3\\envs\\bajwa\\lib\\site-packages (from matplotlib<3.7,>=3.2->ydata-profiling->pandas-profiling->streamlit_pandas_profiling) (4.38.0)\n",
      "Requirement already satisfied: kiwisolver>=1.0.1 in c:\\users\\muham\\miniconda3\\envs\\bajwa\\lib\\site-packages (from matplotlib<3.7,>=3.2->ydata-profiling->pandas-profiling->streamlit_pandas_profiling) (1.4.4)\n",
      "Requirement already satisfied: contourpy>=1.0.1 in c:\\users\\muham\\miniconda3\\envs\\bajwa\\lib\\site-packages (from matplotlib<3.7,>=3.2->ydata-profiling->pandas-profiling->streamlit_pandas_profiling) (1.0.7)\n",
      "Requirement already satisfied: pyparsing>=2.2.1 in c:\\users\\muham\\miniconda3\\envs\\bajwa\\lib\\site-packages (from matplotlib<3.7,>=3.2->ydata-profiling->pandas-profiling->streamlit_pandas_profiling) (3.0.9)\n",
      "Requirement already satisfied: cycler>=0.10 in c:\\users\\muham\\miniconda3\\envs\\bajwa\\lib\\site-packages (from matplotlib<3.7,>=3.2->ydata-profiling->pandas-profiling->streamlit_pandas_profiling) (0.11.0)\n",
      "Requirement already satisfied: joblib>=0.14.1 in c:\\users\\muham\\miniconda3\\envs\\bajwa\\lib\\site-packages (from phik<0.13,>=0.11.1->ydata-profiling->pandas-profiling->streamlit_pandas_profiling) (1.2.0)\n",
      "Requirement already satisfied: patsy>=0.5.2 in c:\\users\\muham\\miniconda3\\envs\\bajwa\\lib\\site-packages (from statsmodels<0.14,>=0.13.2->ydata-profiling->pandas-profiling->streamlit_pandas_profiling) (0.5.3)\n",
      "Requirement already satisfied: PyWavelets in c:\\users\\muham\\miniconda3\\envs\\bajwa\\lib\\site-packages (from imagehash->visions[type_image_path]==0.7.5->ydata-profiling->pandas-profiling->streamlit_pandas_profiling) (1.4.1)\n",
      "Installing collected packages: streamlit_pandas_profiling\n",
      "Successfully installed streamlit_pandas_profiling-0.1.3\n",
      "Note: you may need to restart the kernel to use updated packages.\n"
     ]
    }
   ],
   "source": [
    "pip install streamlit_pandas_profiling"
   ]
  },
  {
   "cell_type": "code",
   "execution_count": 5,
   "metadata": {},
   "outputs": [
    {
     "data": {
      "text/plain": [
       "CompletedProcess(args=['jupyter', 'nbconvert', '--to', 'pdf', 'tf.ipynb'], returncode=0)"
      ]
     },
     "execution_count": 5,
     "metadata": {},
     "output_type": "execute_result"
    }
   ],
   "source": [
    "import subprocess\n",
    "\n",
    "subprocess.run([\"jupyter\", \"nbconvert\", \"--to\", \"pdf\", \"tf.ipynb\"])\n"
   ]
  }
 ],
 "metadata": {
  "kernelspec": {
   "display_name": "Python 3",
   "language": "python",
   "name": "python3"
  },
  "language_info": {
   "codemirror_mode": {
    "name": "ipython",
    "version": 3
   },
   "file_extension": ".py",
   "mimetype": "text/x-python",
   "name": "python",
   "nbconvert_exporter": "python",
   "pygments_lexer": "ipython3",
   "version": "3.9.16"
  },
  "orig_nbformat": 4,
  "vscode": {
   "interpreter": {
    "hash": "6c3e162beeb03851b20225f6495e43144943904ff3e24eecc830db7d73eea874"
   }
  }
 },
 "nbformat": 4,
 "nbformat_minor": 2
}
