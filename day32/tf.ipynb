{
 "cells": [
  {
   "cell_type": "code",
   "execution_count": 1,
   "metadata": {},
   "outputs": [
    {
     "name": "stdout",
     "output_type": "stream",
     "text": [
      "Collecting pandas_profiling\n",
      "  Using cached pandas_profiling-3.6.6-py2.py3-none-any.whl (324 kB)\n",
      "Collecting ydata-profiling\n",
      "  Using cached ydata_profiling-4.0.0-py2.py3-none-any.whl (344 kB)\n",
      "Requirement already satisfied: tqdm<4.65,>=4.48.2 in c:\\users\\muham\\miniconda3\\envs\\bajwa\\lib\\site-packages (from ydata-profiling->pandas_profiling) (4.64.1)\n",
      "Collecting phik<0.13,>=0.11.1\n",
      "  Using cached phik-0.12.3-cp39-cp39-win_amd64.whl (663 kB)\n",
      "Requirement already satisfied: seaborn<0.13,>=0.10.1 in c:\\users\\muham\\miniconda3\\envs\\bajwa\\lib\\site-packages (from ydata-profiling->pandas_profiling) (0.12.2)\n",
      "Collecting multimethod<1.10,>=1.4\n",
      "  Using cached multimethod-1.9.1-py3-none-any.whl (10 kB)\n",
      "Collecting visions[type_image_path]==0.7.5\n",
      "  Using cached visions-0.7.5-py3-none-any.whl (102 kB)\n",
      "Collecting scipy<1.10,>=1.4.1\n",
      "  Using cached scipy-1.9.3-cp39-cp39-win_amd64.whl (40.2 MB)\n",
      "Requirement already satisfied: htmlmin==0.1.12 in c:\\users\\muham\\miniconda3\\envs\\bajwa\\lib\\site-packages (from ydata-profiling->pandas_profiling) (0.1.12)\n",
      "Requirement already satisfied: pandas!=1.4.0,<1.6,>1.1 in c:\\users\\muham\\miniconda3\\envs\\bajwa\\lib\\site-packages (from ydata-profiling->pandas_profiling) (1.5.3)\n",
      "Collecting statsmodels<0.14,>=0.13.2\n",
      "  Using cached statsmodels-0.13.5-cp39-cp39-win_amd64.whl (9.2 MB)\n",
      "Requirement already satisfied: matplotlib<3.7,>=3.2 in c:\\users\\muham\\miniconda3\\envs\\bajwa\\lib\\site-packages (from ydata-profiling->pandas_profiling) (3.6.3)\n",
      "Requirement already satisfied: typeguard<2.14,>=2.13.2 in c:\\users\\muham\\miniconda3\\envs\\bajwa\\lib\\site-packages (from ydata-profiling->pandas_profiling) (2.13.3)\n",
      "Requirement already satisfied: pydantic<1.11,>=1.8.1 in c:\\users\\muham\\miniconda3\\envs\\bajwa\\lib\\site-packages (from ydata-profiling->pandas_profiling) (1.10.4)\n",
      "Requirement already satisfied: requests<2.29,>=2.24.0 in c:\\users\\muham\\miniconda3\\envs\\bajwa\\lib\\site-packages (from ydata-profiling->pandas_profiling) (2.28.2)\n",
      "Requirement already satisfied: jinja2<3.2,>=2.11.1 in c:\\users\\muham\\miniconda3\\envs\\bajwa\\lib\\site-packages (from ydata-profiling->pandas_profiling) (3.1.2)\n",
      "Requirement already satisfied: numpy<1.24,>=1.16.0 in c:\\users\\muham\\miniconda3\\envs\\bajwa\\lib\\site-packages (from ydata-profiling->pandas_profiling) (1.23.5)\n",
      "Requirement already satisfied: PyYAML<6.1,>=5.0.0 in c:\\users\\muham\\miniconda3\\envs\\bajwa\\lib\\site-packages (from ydata-profiling->pandas_profiling) (6.0)\n",
      "Requirement already satisfied: attrs>=19.3.0 in c:\\users\\muham\\miniconda3\\envs\\bajwa\\lib\\site-packages (from visions[type_image_path]==0.7.5->ydata-profiling->pandas_profiling) (22.2.0)\n",
      "Requirement already satisfied: tangled-up-in-unicode>=0.0.4 in c:\\users\\muham\\miniconda3\\envs\\bajwa\\lib\\site-packages (from visions[type_image_path]==0.7.5->ydata-profiling->pandas_profiling) (0.2.0)\n",
      "Collecting networkx>=2.4\n",
      "  Using cached networkx-3.0-py3-none-any.whl (2.0 MB)\n",
      "Collecting imagehash\n",
      "  Using cached ImageHash-4.3.1-py2.py3-none-any.whl (296 kB)\n",
      "Requirement already satisfied: Pillow in c:\\users\\muham\\miniconda3\\envs\\bajwa\\lib\\site-packages (from visions[type_image_path]==0.7.5->ydata-profiling->pandas_profiling) (9.4.0)\n",
      "Requirement already satisfied: MarkupSafe>=2.0 in c:\\users\\muham\\miniconda3\\envs\\bajwa\\lib\\site-packages (from jinja2<3.2,>=2.11.1->ydata-profiling->pandas_profiling) (2.1.2)\n",
      "Requirement already satisfied: cycler>=0.10 in c:\\users\\muham\\miniconda3\\envs\\bajwa\\lib\\site-packages (from matplotlib<3.7,>=3.2->ydata-profiling->pandas_profiling) (0.11.0)\n",
      "Requirement already satisfied: pyparsing>=2.2.1 in c:\\users\\muham\\miniconda3\\envs\\bajwa\\lib\\site-packages (from matplotlib<3.7,>=3.2->ydata-profiling->pandas_profiling) (3.0.9)\n",
      "Requirement already satisfied: kiwisolver>=1.0.1 in c:\\users\\muham\\miniconda3\\envs\\bajwa\\lib\\site-packages (from matplotlib<3.7,>=3.2->ydata-profiling->pandas_profiling) (1.4.4)\n",
      "Requirement already satisfied: python-dateutil>=2.7 in c:\\users\\muham\\miniconda3\\envs\\bajwa\\lib\\site-packages (from matplotlib<3.7,>=3.2->ydata-profiling->pandas_profiling) (2.8.2)\n",
      "Requirement already satisfied: contourpy>=1.0.1 in c:\\users\\muham\\miniconda3\\envs\\bajwa\\lib\\site-packages (from matplotlib<3.7,>=3.2->ydata-profiling->pandas_profiling) (1.0.7)\n",
      "Requirement already satisfied: fonttools>=4.22.0 in c:\\users\\muham\\miniconda3\\envs\\bajwa\\lib\\site-packages (from matplotlib<3.7,>=3.2->ydata-profiling->pandas_profiling) (4.38.0)\n",
      "Requirement already satisfied: packaging>=20.0 in c:\\users\\muham\\miniconda3\\envs\\bajwa\\lib\\site-packages (from matplotlib<3.7,>=3.2->ydata-profiling->pandas_profiling) (23.0)\n",
      "Requirement already satisfied: pytz>=2020.1 in c:\\users\\muham\\miniconda3\\envs\\bajwa\\lib\\site-packages (from pandas!=1.4.0,<1.6,>1.1->ydata-profiling->pandas_profiling) (2022.7.1)\n",
      "Requirement already satisfied: joblib>=0.14.1 in c:\\users\\muham\\miniconda3\\envs\\bajwa\\lib\\site-packages (from phik<0.13,>=0.11.1->ydata-profiling->pandas_profiling) (1.2.0)\n",
      "Requirement already satisfied: typing-extensions>=4.2.0 in c:\\users\\muham\\miniconda3\\envs\\bajwa\\lib\\site-packages (from pydantic<1.11,>=1.8.1->ydata-profiling->pandas_profiling) (4.4.0)\n",
      "Requirement already satisfied: certifi>=2017.4.17 in c:\\users\\muham\\miniconda3\\envs\\bajwa\\lib\\site-packages (from requests<2.29,>=2.24.0->ydata-profiling->pandas_profiling) (2022.12.7)\n",
      "Requirement already satisfied: charset-normalizer<4,>=2 in c:\\users\\muham\\miniconda3\\envs\\bajwa\\lib\\site-packages (from requests<2.29,>=2.24.0->ydata-profiling->pandas_profiling) (3.0.1)\n",
      "Requirement already satisfied: idna<4,>=2.5 in c:\\users\\muham\\miniconda3\\envs\\bajwa\\lib\\site-packages (from requests<2.29,>=2.24.0->ydata-profiling->pandas_profiling) (3.4)\n",
      "Requirement already satisfied: urllib3<1.27,>=1.21.1 in c:\\users\\muham\\miniconda3\\envs\\bajwa\\lib\\site-packages (from requests<2.29,>=2.24.0->ydata-profiling->pandas_profiling) (1.26.14)\n",
      "Collecting patsy>=0.5.2\n",
      "  Using cached patsy-0.5.3-py2.py3-none-any.whl (233 kB)\n",
      "Requirement already satisfied: colorama in c:\\users\\muham\\miniconda3\\envs\\bajwa\\lib\\site-packages (from tqdm<4.65,>=4.48.2->ydata-profiling->pandas_profiling) (0.4.6)\n",
      "Requirement already satisfied: six in c:\\users\\muham\\miniconda3\\envs\\bajwa\\lib\\site-packages (from patsy>=0.5.2->statsmodels<0.14,>=0.13.2->ydata-profiling->pandas_profiling) (1.16.0)\n",
      "Collecting PyWavelets\n",
      "  Using cached PyWavelets-1.4.1-cp39-cp39-win_amd64.whl (4.2 MB)\n",
      "Installing collected packages: scipy, PyWavelets, patsy, networkx, multimethod, imagehash, visions, statsmodels, phik, ydata-profiling, pandas_profiling\n",
      "  Attempting uninstall: scipy\n",
      "    Found existing installation: scipy 1.10.0\n",
      "    Uninstalling scipy-1.10.0:\n",
      "      Successfully uninstalled scipy-1.10.0\n",
      "Successfully installed PyWavelets-1.4.1 imagehash-4.3.1 multimethod-1.9.1 networkx-3.0 pandas_profiling-3.6.6 patsy-0.5.3 phik-0.12.3 scipy-1.9.3 statsmodels-0.13.5 visions-0.7.5 ydata-profiling-4.0.0\n",
      "Note: you may need to restart the kernel to use updated packages.\n"
     ]
    }
   ],
   "source": [
    "pip install pandas_profiling"
   ]
  },
  {
   "cell_type": "code",
   "execution_count": 1,
   "metadata": {},
   "outputs": [],
   "source": [
    "import streamlit as st"
   ]
  },
  {
   "cell_type": "code",
   "execution_count": 2,
   "metadata": {},
   "outputs": [
    {
     "name": "stdout",
     "output_type": "stream",
     "text": [
      "Collecting ipywidgets\n",
      "  Downloading ipywidgets-8.0.4-py3-none-any.whl (137 kB)\n",
      "     ------------------------------------ 137.8/137.8 kB 582.3 kB/s eta 0:00:00\n",
      "Requirement already satisfied: ipykernel>=4.5.1 in c:\\users\\muham\\miniconda3\\envs\\bajwa\\lib\\site-packages (from ipywidgets) (6.19.2)\n",
      "Collecting jupyterlab-widgets~=3.0\n",
      "  Downloading jupyterlab_widgets-3.0.5-py3-none-any.whl (384 kB)\n",
      "     -------------------------------------- 384.3/384.3 kB 2.4 MB/s eta 0:00:00\n",
      "Requirement already satisfied: traitlets>=4.3.1 in c:\\users\\muham\\miniconda3\\envs\\bajwa\\lib\\site-packages (from ipywidgets) (5.7.1)\n",
      "Collecting widgetsnbextension~=4.0\n",
      "  Downloading widgetsnbextension-4.0.5-py3-none-any.whl (2.0 MB)\n",
      "     ---------------------------------------- 2.0/2.0 MB 1.2 MB/s eta 0:00:00\n",
      "Requirement already satisfied: ipython>=6.1.0 in c:\\users\\muham\\miniconda3\\envs\\bajwa\\lib\\site-packages (from ipywidgets) (8.8.0)\n",
      "Requirement already satisfied: matplotlib-inline>=0.1 in c:\\users\\muham\\miniconda3\\envs\\bajwa\\lib\\site-packages (from ipykernel>=4.5.1->ipywidgets) (0.1.6)\n",
      "Requirement already satisfied: jupyter-client>=6.1.12 in c:\\users\\muham\\miniconda3\\envs\\bajwa\\lib\\site-packages (from ipykernel>=4.5.1->ipywidgets) (7.4.8)\n",
      "Requirement already satisfied: pyzmq>=17 in c:\\users\\muham\\miniconda3\\envs\\bajwa\\lib\\site-packages (from ipykernel>=4.5.1->ipywidgets) (23.2.0)\n",
      "Requirement already satisfied: comm>=0.1.1 in c:\\users\\muham\\miniconda3\\envs\\bajwa\\lib\\site-packages (from ipykernel>=4.5.1->ipywidgets) (0.1.2)\n",
      "Requirement already satisfied: tornado>=6.1 in c:\\users\\muham\\miniconda3\\envs\\bajwa\\lib\\site-packages (from ipykernel>=4.5.1->ipywidgets) (6.2)\n",
      "Requirement already satisfied: psutil in c:\\users\\muham\\miniconda3\\envs\\bajwa\\lib\\site-packages (from ipykernel>=4.5.1->ipywidgets) (5.9.0)\n",
      "Requirement already satisfied: packaging in c:\\users\\muham\\miniconda3\\envs\\bajwa\\lib\\site-packages (from ipykernel>=4.5.1->ipywidgets) (23.0)\n",
      "Requirement already satisfied: debugpy>=1.0 in c:\\users\\muham\\miniconda3\\envs\\bajwa\\lib\\site-packages (from ipykernel>=4.5.1->ipywidgets) (1.5.1)\n",
      "Requirement already satisfied: nest-asyncio in c:\\users\\muham\\miniconda3\\envs\\bajwa\\lib\\site-packages (from ipykernel>=4.5.1->ipywidgets) (1.5.6)\n",
      "Requirement already satisfied: decorator in c:\\users\\muham\\miniconda3\\envs\\bajwa\\lib\\site-packages (from ipython>=6.1.0->ipywidgets) (5.1.1)\n",
      "Requirement already satisfied: pickleshare in c:\\users\\muham\\miniconda3\\envs\\bajwa\\lib\\site-packages (from ipython>=6.1.0->ipywidgets) (0.7.5)\n",
      "Requirement already satisfied: stack-data in c:\\users\\muham\\miniconda3\\envs\\bajwa\\lib\\site-packages (from ipython>=6.1.0->ipywidgets) (0.2.0)\n",
      "Requirement already satisfied: colorama in c:\\users\\muham\\miniconda3\\envs\\bajwa\\lib\\site-packages (from ipython>=6.1.0->ipywidgets) (0.4.6)\n",
      "Requirement already satisfied: jedi>=0.16 in c:\\users\\muham\\miniconda3\\envs\\bajwa\\lib\\site-packages (from ipython>=6.1.0->ipywidgets) (0.18.1)\n",
      "Requirement already satisfied: pygments>=2.4.0 in c:\\users\\muham\\miniconda3\\envs\\bajwa\\lib\\site-packages (from ipython>=6.1.0->ipywidgets) (2.14.0)\n",
      "Requirement already satisfied: backcall in c:\\users\\muham\\miniconda3\\envs\\bajwa\\lib\\site-packages (from ipython>=6.1.0->ipywidgets) (0.2.0)\n",
      "Requirement already satisfied: prompt-toolkit<3.1.0,>=3.0.11 in c:\\users\\muham\\miniconda3\\envs\\bajwa\\lib\\site-packages (from ipython>=6.1.0->ipywidgets) (3.0.36)\n",
      "Requirement already satisfied: parso<0.9.0,>=0.8.0 in c:\\users\\muham\\miniconda3\\envs\\bajwa\\lib\\site-packages (from jedi>=0.16->ipython>=6.1.0->ipywidgets) (0.8.3)\n",
      "Requirement already satisfied: jupyter-core>=4.9.2 in c:\\users\\muham\\miniconda3\\envs\\bajwa\\lib\\site-packages (from jupyter-client>=6.1.12->ipykernel>=4.5.1->ipywidgets) (5.1.1)\n",
      "Requirement already satisfied: python-dateutil>=2.8.2 in c:\\users\\muham\\miniconda3\\envs\\bajwa\\lib\\site-packages (from jupyter-client>=6.1.12->ipykernel>=4.5.1->ipywidgets) (2.8.2)\n",
      "Requirement already satisfied: entrypoints in c:\\users\\muham\\miniconda3\\envs\\bajwa\\lib\\site-packages (from jupyter-client>=6.1.12->ipykernel>=4.5.1->ipywidgets) (0.4)\n",
      "Requirement already satisfied: wcwidth in c:\\users\\muham\\miniconda3\\envs\\bajwa\\lib\\site-packages (from prompt-toolkit<3.1.0,>=3.0.11->ipython>=6.1.0->ipywidgets) (0.2.5)\n",
      "Requirement already satisfied: asttokens in c:\\users\\muham\\miniconda3\\envs\\bajwa\\lib\\site-packages (from stack-data->ipython>=6.1.0->ipywidgets) (2.0.5)\n",
      "Requirement already satisfied: pure-eval in c:\\users\\muham\\miniconda3\\envs\\bajwa\\lib\\site-packages (from stack-data->ipython>=6.1.0->ipywidgets) (0.2.2)\n",
      "Requirement already satisfied: executing in c:\\users\\muham\\miniconda3\\envs\\bajwa\\lib\\site-packages (from stack-data->ipython>=6.1.0->ipywidgets) (0.8.3)\n",
      "Requirement already satisfied: platformdirs>=2.5 in c:\\users\\muham\\miniconda3\\envs\\bajwa\\lib\\site-packages (from jupyter-core>=4.9.2->jupyter-client>=6.1.12->ipykernel>=4.5.1->ipywidgets) (2.5.2)\n",
      "Requirement already satisfied: pywin32>=1.0 in c:\\users\\muham\\miniconda3\\envs\\bajwa\\lib\\site-packages (from jupyter-core>=4.9.2->jupyter-client>=6.1.12->ipykernel>=4.5.1->ipywidgets) (305.1)\n",
      "Requirement already satisfied: six>=1.5 in c:\\users\\muham\\miniconda3\\envs\\bajwa\\lib\\site-packages (from python-dateutil>=2.8.2->jupyter-client>=6.1.12->ipykernel>=4.5.1->ipywidgets) (1.16.0)\n",
      "Installing collected packages: widgetsnbextension, jupyterlab-widgets, ipywidgets\n",
      "Successfully installed ipywidgets-8.0.4 jupyterlab-widgets-3.0.5 widgetsnbextension-4.0.5\n",
      "Note: you may need to restart the kernel to use updated packages.\n"
     ]
    }
   ],
   "source": [
    "pip install ipywidgets"
   ]
  },
  {
   "cell_type": "code",
   "execution_count": 4,
   "metadata": {},
   "outputs": [],
   "source": [
    "import smtplib"
   ]
  },
  {
   "cell_type": "code",
   "execution_count": null,
   "metadata": {},
   "outputs": [],
   "source": [
    "import re\n",
    "import smtplib\n",
    "import csv\n",
    "\n",
    "def is_valid_email(email):\n",
    "    email_regex = re.compile(r'[^@]+@[^@]+\\.[^@]+')\n",
    "    return email_regex.match(email) is not None\n",
    "\n",
    "def is_active_email(email):\n",
    "    try:\n",
    "        smtp_server = smtplib.SMTP('smtp.example.com')\n",
    "        smtp_server.ehlo()\n",
    "        smtp_server.starttls()\n",
    "        smtp_server.ehlo()\n",
    "        smtp_server.login('user@example.com', 'password')\n",
    "        smtp_server.sendmail('user@example.com', email, 'Subject: Test\\n\\nThis is a test email.')\n",
    "        smtp_server.quit()\n",
    "        return True\n",
    "    except:\n",
    "        return False\n",
    "\n",
    "with open('emails.csv', 'r') as email_file:\n",
    "    email_reader = csv.reader(email_file)\n",
    "    headers = next(email_reader)\n",
    "    results = []\n",
    "    for row in email_reader:\n",
    "        email = row[0]\n",
    "        if is_valid_email(email):\n",
    "            print(f\"{email} is a valid email address\")\n",
    "            if is_active_email(email):\n",
    "                print(f\"{email} is an active email address\")\n",
    "                results.append([email, 'valid', 'active'])\n",
    "            else:\n",
    "                print(f\"{email} is not an active email address\")\n",
    "                results.append([email, 'valid', 'inactive'])\n",
    "        else:\n",
    "            print(f\"{email} is not a valid email address\")\n",
    "            results.append([email, 'invalid', ''])\n",
    "\n",
    "with open('email_results.csv', 'w', newline='') as result_file:\n",
    "    result_writer = csv.writer(result_file)\n",
    "    result_writer.writerow(['Email', 'Validity', 'Activity'])\n",
    "    result_writer.writerows(results)\n"
   ]
  }
 ],
 "metadata": {
  "kernelspec": {
   "display_name": "Python 3",
   "language": "python",
   "name": "python3"
  },
  "language_info": {
   "codemirror_mode": {
    "name": "ipython",
    "version": 3
   },
   "file_extension": ".py",
   "mimetype": "text/x-python",
   "name": "python",
   "nbconvert_exporter": "python",
   "pygments_lexer": "ipython3",
   "version": "3.9.16"
  },
  "orig_nbformat": 4,
  "vscode": {
   "interpreter": {
    "hash": "6c3e162beeb03851b20225f6495e43144943904ff3e24eecc830db7d73eea874"
   }
  }
 },
 "nbformat": 4,
 "nbformat_minor": 2
}
