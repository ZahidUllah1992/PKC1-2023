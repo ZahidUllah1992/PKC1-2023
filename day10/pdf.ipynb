{
 "cells": [
  {
   "cell_type": "code",
   "execution_count": 1,
   "metadata": {},
   "outputs": [
    {
     "name": "stdout",
     "output_type": "stream",
     "text": [
      "Collecting nbconvert\n",
      "  Downloading nbconvert-7.2.7-py3-none-any.whl (273 kB)\n",
      "     ------------------------------------ 273.2/273.2 kB 840.2 kB/s eta 0:00:00\n",
      "Collecting beautifulsoup4\n",
      "  Downloading beautifulsoup4-4.11.1-py3-none-any.whl (128 kB)\n",
      "     -------------------------------------- 128.2/128.2 kB 1.5 MB/s eta 0:00:00\n",
      "Collecting bleach\n",
      "  Downloading bleach-5.0.1-py3-none-any.whl (160 kB)\n",
      "     ------------------------------------ 160.9/160.9 kB 459.3 kB/s eta 0:00:00\n",
      "Collecting defusedxml\n",
      "  Downloading defusedxml-0.7.1-py2.py3-none-any.whl (25 kB)\n",
      "Collecting jinja2>=3.0\n",
      "  Downloading Jinja2-3.1.2-py3-none-any.whl (133 kB)\n",
      "     ------------------------------------ 133.1/133.1 kB 982.9 kB/s eta 0:00:00\n",
      "Requirement already satisfied: jupyter-core>=4.7 in c:\\users\\muham\\appdata\\roaming\\python\\python311\\site-packages (from nbconvert) (5.1.3)\n",
      "Collecting jupyterlab-pygments\n",
      "  Downloading jupyterlab_pygments-0.2.2-py2.py3-none-any.whl (21 kB)\n",
      "Collecting markupsafe>=2.0\n",
      "  Downloading MarkupSafe-2.1.1.tar.gz (18 kB)\n",
      "  Preparing metadata (setup.py): started\n",
      "  Preparing metadata (setup.py): finished with status 'done'\n",
      "Collecting mistune<3,>=2.0.3\n",
      "  Downloading mistune-2.0.4-py2.py3-none-any.whl (24 kB)\n",
      "Collecting nbclient>=0.5.0\n",
      "  Downloading nbclient-0.7.2-py3-none-any.whl (71 kB)\n",
      "     ---------------------------------------- 72.0/72.0 kB 1.3 MB/s eta 0:00:00\n",
      "Collecting nbformat>=5.1\n",
      "  Downloading nbformat-5.7.1-py3-none-any.whl (77 kB)\n",
      "     -------------------------------------- 77.2/77.2 kB 858.4 kB/s eta 0:00:00\n",
      "Requirement already satisfied: packaging in c:\\users\\muham\\appdata\\roaming\\python\\python311\\site-packages (from nbconvert) (23.0)\n",
      "Collecting pandocfilters>=1.4.1\n",
      "  Downloading pandocfilters-1.5.0-py2.py3-none-any.whl (8.7 kB)\n",
      "Requirement already satisfied: pygments>=2.4.1 in c:\\users\\muham\\appdata\\roaming\\python\\python311\\site-packages (from nbconvert) (2.14.0)\n",
      "Collecting tinycss2\n",
      "  Downloading tinycss2-1.2.1-py3-none-any.whl (21 kB)\n",
      "Requirement already satisfied: traitlets>=5.0 in c:\\users\\muham\\appdata\\roaming\\python\\python311\\site-packages (from nbconvert) (5.8.1)\n",
      "Requirement already satisfied: platformdirs>=2.5 in c:\\users\\muham\\appdata\\roaming\\python\\python311\\site-packages (from jupyter-core>=4.7->nbconvert) (2.6.2)\n",
      "Requirement already satisfied: pywin32>=1.0 in c:\\users\\muham\\appdata\\roaming\\python\\python311\\site-packages (from jupyter-core>=4.7->nbconvert) (305)\n",
      "Requirement already satisfied: jupyter-client>=6.1.12 in c:\\users\\muham\\appdata\\roaming\\python\\python311\\site-packages (from nbclient>=0.5.0->nbconvert) (7.4.8)\n",
      "Collecting fastjsonschema\n",
      "  Downloading fastjsonschema-2.16.2-py3-none-any.whl (22 kB)\n",
      "Collecting jsonschema>=2.6\n",
      "  Downloading jsonschema-4.17.3-py3-none-any.whl (90 kB)\n",
      "     -------------------------------------- 90.4/90.4 kB 510.4 kB/s eta 0:00:00\n",
      "Collecting soupsieve>1.2\n",
      "  Downloading soupsieve-2.3.2.post1-py3-none-any.whl (37 kB)\n",
      "Requirement already satisfied: six>=1.9.0 in c:\\users\\muham\\appdata\\roaming\\python\\python311\\site-packages (from bleach->nbconvert) (1.16.0)\n",
      "Collecting webencodings\n",
      "  Downloading webencodings-0.5.1-py2.py3-none-any.whl (11 kB)\n",
      "Collecting attrs>=17.4.0\n",
      "  Downloading attrs-22.2.0-py3-none-any.whl (60 kB)\n",
      "     ---------------------------------------- 60.0/60.0 kB 1.1 MB/s eta 0:00:00\n",
      "Collecting pyrsistent!=0.17.0,!=0.17.1,!=0.17.2,>=0.14.0\n",
      "  Downloading pyrsistent-0.19.3-cp311-cp311-win_amd64.whl (62 kB)\n",
      "     -------------------------------------- 62.7/62.7 kB 672.7 kB/s eta 0:00:00\n",
      "Requirement already satisfied: entrypoints in c:\\users\\muham\\appdata\\roaming\\python\\python311\\site-packages (from jupyter-client>=6.1.12->nbclient>=0.5.0->nbconvert) (0.4)\n",
      "Requirement already satisfied: nest-asyncio>=1.5.4 in c:\\users\\muham\\appdata\\roaming\\python\\python311\\site-packages (from jupyter-client>=6.1.12->nbclient>=0.5.0->nbconvert) (1.5.6)\n",
      "Requirement already satisfied: python-dateutil>=2.8.2 in c:\\users\\muham\\appdata\\roaming\\python\\python311\\site-packages (from jupyter-client>=6.1.12->nbclient>=0.5.0->nbconvert) (2.8.2)\n",
      "Requirement already satisfied: pyzmq>=23.0 in c:\\users\\muham\\appdata\\roaming\\python\\python311\\site-packages (from jupyter-client>=6.1.12->nbclient>=0.5.0->nbconvert) (24.0.1)\n",
      "Requirement already satisfied: tornado>=6.2 in c:\\users\\muham\\appdata\\roaming\\python\\python311\\site-packages (from jupyter-client>=6.1.12->nbclient>=0.5.0->nbconvert) (6.2)\n",
      "Installing collected packages: webencodings, mistune, fastjsonschema, tinycss2, soupsieve, pyrsistent, pandocfilters, markupsafe, jupyterlab-pygments, defusedxml, bleach, attrs, jsonschema, jinja2, beautifulsoup4, nbformat, nbclient, nbconvert\n",
      "  Running setup.py install for markupsafe: started\n",
      "  Running setup.py install for markupsafe: finished with status 'done'\n",
      "Successfully installed attrs-22.2.0 beautifulsoup4-4.11.1 bleach-5.0.1 defusedxml-0.7.1 fastjsonschema-2.16.2 jinja2-3.1.2 jsonschema-4.17.3 jupyterlab-pygments-0.2.2 markupsafe-2.1.1 mistune-2.0.4 nbclient-0.7.2 nbconvert-7.2.7 nbformat-5.7.1 pandocfilters-1.5.0 pyrsistent-0.19.3 soupsieve-2.3.2.post1 tinycss2-1.2.1 webencodings-0.5.1\n",
      "Note: you may need to restart the kernel to use updated packages.\n"
     ]
    },
    {
     "name": "stderr",
     "output_type": "stream",
     "text": [
      "  DEPRECATION: markupsafe is being installed using the legacy 'setup.py install' method, because it does not have a 'pyproject.toml' and the 'wheel' package is not installed. pip 23.1 will enforce this behaviour change. A possible replacement is to enable the '--use-pep517' option. Discussion can be found at https://github.com/pypa/pip/issues/8559\n"
     ]
    }
   ],
   "source": [
    "pip install nbconvert"
   ]
  },
  {
   "cell_type": "code",
   "execution_count": 1,
   "metadata": {},
   "outputs": [
    {
     "name": "stderr",
     "output_type": "stream",
     "text": [
      "[NbConvertApp] Converting notebook iris.ipynb to pdf\n",
      "Traceback (most recent call last):\n",
      "  File \"C:\\Users\\muham\\anaconda3\\lib\\site-packages\\nbformat\\reader.py\", line 18, in parse_json\n",
      "    nb_dict = json.loads(s, **kwargs)\n",
      "  File \"C:\\Users\\muham\\anaconda3\\lib\\json\\__init__.py\", line 346, in loads\n",
      "    return _default_decoder.decode(s)\n",
      "  File \"C:\\Users\\muham\\anaconda3\\lib\\json\\decoder.py\", line 337, in decode\n",
      "    obj, end = self.raw_decode(s, idx=_w(s, 0).end())\n",
      "  File \"C:\\Users\\muham\\anaconda3\\lib\\json\\decoder.py\", line 355, in raw_decode\n",
      "    raise JSONDecodeError(\"Expecting value\", s, err.value) from None\n",
      "json.decoder.JSONDecodeError: Expecting value: line 1 column 1 (char 0)\n",
      "\n",
      "The above exception was the direct cause of the following exception:\n",
      "\n",
      "Traceback (most recent call last):\n",
      "  File \"C:\\Users\\muham\\anaconda3\\Scripts\\jupyter-nbconvert-script.py\", line 10, in <module>\n",
      "    sys.exit(main())\n",
      "  File \"C:\\Users\\muham\\anaconda3\\lib\\site-packages\\jupyter_core\\application.py\", line 269, in launch_instance\n",
      "    return super().launch_instance(argv=argv, **kwargs)\n",
      "  File \"C:\\Users\\muham\\anaconda3\\lib\\site-packages\\traitlets\\config\\application.py\", line 846, in launch_instance\n",
      "    app.start()\n",
      "  File \"C:\\Users\\muham\\anaconda3\\lib\\site-packages\\nbconvert\\nbconvertapp.py\", line 369, in start\n",
      "    self.convert_notebooks()\n",
      "  File \"C:\\Users\\muham\\anaconda3\\lib\\site-packages\\nbconvert\\nbconvertapp.py\", line 541, in convert_notebooks\n",
      "    self.convert_single_notebook(notebook_filename)\n",
      "  File \"C:\\Users\\muham\\anaconda3\\lib\\site-packages\\nbconvert\\nbconvertapp.py\", line 506, in convert_single_notebook\n",
      "    output, resources = self.export_single_notebook(notebook_filename, resources, input_buffer=input_buffer)\n",
      "  File \"C:\\Users\\muham\\anaconda3\\lib\\site-packages\\nbconvert\\nbconvertapp.py\", line 435, in export_single_notebook\n",
      "    output, resources = self.exporter.from_filename(notebook_filename, resources=resources)\n",
      "  File \"C:\\Users\\muham\\anaconda3\\lib\\site-packages\\nbconvert\\exporters\\exporter.py\", line 190, in from_filename\n",
      "    return self.from_file(f, resources=resources, **kw)\n",
      "  File \"C:\\Users\\muham\\anaconda3\\lib\\site-packages\\nbconvert\\exporters\\exporter.py\", line 208, in from_file\n",
      "    return self.from_notebook_node(nbformat.read(file_stream, as_version=4), resources=resources, **kw)\n",
      "  File \"C:\\Users\\muham\\anaconda3\\lib\\site-packages\\nbformat\\__init__.py\", line 170, in read\n",
      "    return reads(buf, as_version, capture_validation_error, **kwargs)\n",
      "  File \"C:\\Users\\muham\\anaconda3\\lib\\site-packages\\nbformat\\__init__.py\", line 88, in reads\n",
      "    nb = reader.reads(s, **kwargs)\n",
      "  File \"C:\\Users\\muham\\anaconda3\\lib\\site-packages\\nbformat\\reader.py\", line 71, in reads\n",
      "    nb_dict = parse_json(s, **kwargs)\n",
      "  File \"C:\\Users\\muham\\anaconda3\\lib\\site-packages\\nbformat\\reader.py\", line 21, in parse_json\n",
      "    raise NotJSONError((\"Notebook does not appear to be JSON: %r\" % s)[:77] + \"...\") from e\n",
      "nbformat.reader.NotJSONError: Notebook does not appear to be JSON: ''...\n"
     ]
    }
   ],
   "source": [
    "!jupyter nbconvert --to pdf \"iris.ipynb\""
   ]
  }
 ],
 "metadata": {
  "kernelspec": {
   "display_name": "Python 3",
   "language": "python",
   "name": "python3"
  },
  "language_info": {
   "codemirror_mode": {
    "name": "ipython",
    "version": 3
   },
   "file_extension": ".py",
   "mimetype": "text/x-python",
   "name": "python",
   "nbconvert_exporter": "python",
   "pygments_lexer": "ipython3",
   "version": "3.11.1"
  },
  "orig_nbformat": 4,
  "vscode": {
   "interpreter": {
    "hash": "5f87a6cc69683745101f5cf8fc8fee81827f494883c23d1befe6caeda7eb7947"
   }
  }
 },
 "nbformat": 4,
 "nbformat_minor": 2
}
