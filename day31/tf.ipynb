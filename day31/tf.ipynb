{
 "cells": [
  {
   "cell_type": "code",
   "execution_count": 1,
   "metadata": {},
   "outputs": [
    {
     "name": "stdout",
     "output_type": "stream",
     "text": [
      "2.11.0\n"
     ]
    }
   ],
   "source": [
    "import tensorflow as tf\n",
    "\n",
    "print(tf.__version__)"
   ]
  },
  {
   "cell_type": "code",
   "execution_count": 2,
   "metadata": {},
   "outputs": [],
   "source": [
    "fmnist = tf.keras.datasets.fashion_mnist"
   ]
  },
  {
   "cell_type": "code",
   "execution_count": 3,
   "metadata": {},
   "outputs": [
    {
     "name": "stdout",
     "output_type": "stream",
     "text": [
      "Downloading data from https://storage.googleapis.com/tensorflow/tf-keras-datasets/train-labels-idx1-ubyte.gz\n",
      "29515/29515 [==============================] - 0s 5us/step\n",
      "Downloading data from https://storage.googleapis.com/tensorflow/tf-keras-datasets/train-images-idx3-ubyte.gz\n",
      "26421880/26421880 [==============================] - 8s 0us/step\n",
      "Downloading data from https://storage.googleapis.com/tensorflow/tf-keras-datasets/t10k-labels-idx1-ubyte.gz\n",
      "5148/5148 [==============================] - 0s 0s/step\n",
      "Downloading data from https://storage.googleapis.com/tensorflow/tf-keras-datasets/t10k-images-idx3-ubyte.gz\n",
      "4422102/4422102 [==============================] - 2s 1us/step\n"
     ]
    }
   ],
   "source": [
    "# Load the training and test split of the Fashion MNIST dataset\n",
    "(training_images, training_labels), (test_images, test_labels) = fmnist.load_data()"
   ]
  },
  {
   "cell_type": "code",
   "execution_count": 15,
   "metadata": {},
   "outputs": [
    {
     "name": "stdout",
     "output_type": "stream",
     "text": [
      "LABEL: 0\n",
      "\n",
      "IMAGE PIXEL ARRAY:\n",
      " [[  0   0   0   0   0   0   0   0   6   0   0   0   4   2   1   1   2   0   0   6   0   0   1   0   0   0   0   0]\n",
      " [  0   0   0   0   0   0   0 139 211 168   0   0   0   0   0   0   0   0 168 208 122   0   0   0   0   0   0   0]\n",
      " [  0   0   0   0   0   0   0 193 228 221 250 150  51  11  13  45 128 243 229 217 189   0   0   0   0   0   0   0]\n",
      " [  0   0   0   0   0   0   0 173 226 204 214 229 252 251 248 252 229 220 209 211 179   0   0   0   0   0   0   0]\n",
      " [  0   0   0   0   0   0   0 190 223 188 216 207 201 210 205 200 198 221 203 208 185   0   0   0   0   0   0   0]\n",
      " [  0   0   0   0   0   0   0 220 216 183 200 217 215 214 209 211 220 211 183 208 212   0   0   0   0   0   0   0]\n",
      " [  0   0   0   0   0   0   0 252 198 192 202 202 209 210 214 211 203 197 192 197 242   7   0   0   0   0   0   0]\n",
      " [  0   0   0   0   0   0  93 255 182 196 198 197 200 192 191 191 189 195 194 186 249  95   0   0   0   0   0   0]\n",
      " [  0   0   0   0   0   0 251 222 179 196 199 201 202 193 192 194 196 191 194 190 209 224   0   0   0   0   0   0]\n",
      " [  0   0   0   0   0 150 255 180 186 196 196 198 195 190 192 191 194 189 194 191 184 244 138   0   0   0   0   0]\n",
      " [  0   0   0   0   0 202 214 181 189 196 190 202 197 188 191 190 194 189 191 191 186 208 193   0   0   0   0   0]\n",
      " [  0   0   0   0   0 156 209 184 188 194 189 202 196 185 189 191 194 188 191 191 183 204 161   0   0   0   0   0]\n",
      " [  0   0   0   0   0 102 222 181 188 193 187 201 195 186 190 189 195 187 190 190 180 216 108   0   0   0   0   0]\n",
      " [  0   0   0   0   0  85 226 178 189 194 185 204 193 185 192 186 194 188 189 190 182 218  80   0   0   0   0   0]\n",
      " [  0   0   0   0   0  78 230 175 187 193 187 206 188 185 191 186 193 188 191 190 181 222  88   0   0   0   0   0]\n",
      " [  0   0   0   0   0  60 231 172 189 192 191 209 186 184 191 186 193 189 189 189 181 214  73   0   0   0   0   0]\n",
      " [  0   0   0   0   0  37 231 172 190 193 188 207 187 184 191 187 191 191 187 187 180 217  50   0   0   0   0   0]\n",
      " [  0   0   0   0   0  13 228 173 189 194 183 206 188 183 190 186 189 191 189 186 181 221  26   0   0   0   0   0]\n",
      " [  0   0   0   0   0   0 225 174 189 195 187 208 188 181 188 186 188 192 190 184 186 213   1   0   0   0   0   0]\n",
      " [  0   0   0   0   0   0 220 175 191 194 189 209 188 180 184 187 189 192 189 182 187 209   0   0   0   0   0   0]\n",
      " [  0   0   0   0   0   0 215 178 193 190 187 209 187 180 185 187 189 192 189 182 185 209   0   0   0   0   0   0]\n",
      " [  0   0   0   0   0   0 212 178 195 192 189 209 188 180 185 188 189 192 189 182 186 207   0   0   0   0   0   0]\n",
      " [  0   0   0   0   0   0 205 180 194 193 194 209 192 180 184 187 188 193 190 180 186 201   0   0   0   0   0   0]\n",
      " [  0   0   0   0   0   0 195 179 191 192 193 206 192 180 182 187 186 197 191 177 188 192   0   0   0   0   0   0]\n",
      " [  0   0   0   0   0   0 191 180 192 195 194 205 195 183 182 185 191 197 179 183 184 186   0   0   0   0   0   0]\n",
      " [  0   0   0   0   0   0 185 177 178 189 189 191 186 179 174 178 192 165  95 191 179 172   0   0   0   0   0   0]\n",
      " [  0   0   0   0   0   0 199 192 217 236 245 239 238 228 219 227 227 247 208 226 199 195   0   0   0   0   0   0]\n",
      " [  0   0   0   0   0   0  73  86  68  73  70  58  54  28  27  60  65  68  47  65  74  62   0   0   0   0   0   0]]\n"
     ]
    },
    {
     "data": {
      "text/plain": [
       "<matplotlib.image.AxesImage at 0x1fcaf27ac70>"
      ]
     },
     "execution_count": 15,
     "metadata": {},
     "output_type": "execute_result"
    },
    {
     "data": {
      "image/png": "[encoded data removed]",
      "text/plain": [
       "<Figure size 640x480 with 1 Axes>"
      ]
     },
     "metadata": {},
     "output_type": "display_data"
    }
   ],
   "source": [
    "import numpy as np\n",
    "import matplotlib.pyplot as plt\n",
    "\n",
    "# You can put between 0 to 59999 here\n",
    "index = 32456\n",
    "\n",
    "# Set number of characters per row when printing\n",
    "np.set_printoptions(linewidth=320)\n",
    "\n",
    "# Print the label and image\n",
    "print(f'LABEL: {training_labels[index]}')\n",
    "print(f'\\nIMAGE PIXEL ARRAY:\\n {training_images[index]}')\n",
    "\n",
    "# Visualize the image\n",
    "plt.imshow(training_images[index])"
   ]
  },
  {
   "cell_type": "code",
   "execution_count": 10,
   "metadata": {},
   "outputs": [],
   "source": [
    "# Build the classification model\n",
    "model = tf.keras.models.Sequential([tf.keras.layers.Flatten(input_shape = (28,28)), \n",
    "                                    tf.keras.layers.Dense(128, activation=tf.nn.relu), \n",
    "                                    tf.keras.layers.Dense(10, activation=tf.nn.softmax)])"
   ]
  }
 ],
 "metadata": {
  "kernelspec": {
   "display_name": "Python 3",
   "language": "python",
   "name": "python3"
  },
  "language_info": {
   "codemirror_mode": {
    "name": "ipython",
    "version": 3
   },
   "file_extension": ".py",
   "mimetype": "text/x-python",
   "name": "python",
   "nbconvert_exporter": "python",
   "pygments_lexer": "ipython3",
   "version": "3.9.16"
  },
  "orig_nbformat": 4,
  "vscode": {
   "interpreter": {
    "hash": "6c3e162beeb03851b20225f6495e43144943904ff3e24eecc830db7d73eea874"
   }
  }
 },
 "nbformat": 4,
 "nbformat_minor": 2
}
